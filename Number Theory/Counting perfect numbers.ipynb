{
 "cells": [
  {
   "cell_type": "markdown",
   "id": "cdc7fe0b",
   "metadata": {},
   "source": [
    "### A perfect number is one positive number that equals the sum of its positive divisors (excluding the number itself)"
   ]
  },
  {
   "cell_type": "code",
   "execution_count": 14,
   "id": "09c359fc",
   "metadata": {},
   "outputs": [
    {
     "data": {
      "text/plain": [
       "True"
      ]
     },
     "execution_count": 14,
     "metadata": {},
     "output_type": "execute_result"
    }
   ],
   "source": [
    "def isPerfectNumber(number):\n",
    "    divisors = []\n",
    "    \n",
    "    # we will add the smallest factor of the given number and add the to the list\n",
    "    for divisor in range(1,number):\n",
    "        isInteger = number % divisor == 0\n",
    "        if isInteger:\n",
    "            divisors.append(divisor)\n",
    "\n",
    "    \n",
    "    return number == sum(divisors)\n",
    "\n",
    "isPerfectNumber(496)"
   ]
  },
  {
   "cell_type": "code",
   "execution_count": 15,
   "id": "034f1108",
   "metadata": {},
   "outputs": [
    {
     "data": {
      "text/plain": [
       "[6, 28, 496, 8128]"
      ]
     },
     "execution_count": 15,
     "metadata": {},
     "output_type": "execute_result"
    }
   ],
   "source": [
    "perfectNums = []\n",
    "\n",
    "for number in range(2,10001):\n",
    "    if isPerfectNumber(number):\n",
    "        perfectNums.append(number)\n",
    "        \n",
    "        \n",
    "perfectNums"
   ]
  },
  {
   "cell_type": "code",
   "execution_count": null,
   "id": "98ddf651",
   "metadata": {},
   "outputs": [],
   "source": []
  }
 ],
 "metadata": {
  "kernelspec": {
   "display_name": "Python 3 (ipykernel)",
   "language": "python",
   "name": "python3"
  },
  "language_info": {
   "codemirror_mode": {
    "name": "ipython",
    "version": 3
   },
   "file_extension": ".py",
   "mimetype": "text/x-python",
   "name": "python",
   "nbconvert_exporter": "python",
   "pygments_lexer": "ipython3",
   "version": "3.9.12"
  }
 },
 "nbformat": 4,
 "nbformat_minor": 5
}
