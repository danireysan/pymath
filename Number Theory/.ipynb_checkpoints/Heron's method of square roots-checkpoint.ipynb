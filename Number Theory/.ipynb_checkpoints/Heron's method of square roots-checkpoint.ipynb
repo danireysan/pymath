{
 "cells": [
  {
   "cell_type": "code",
   "execution_count": 1,
   "id": "e73cd56a",
   "metadata": {},
   "outputs": [],
   "source": [
    "import numpy as np\n",
    "import matplotlib.pyplot as plt"
   ]
  },
  {
   "cell_type": "code",
   "execution_count": 2,
   "id": "066a1cc9",
   "metadata": {},
   "outputs": [
    {
     "name": "stdout",
     "output_type": "stream",
     "text": [
      "33.333333333333336\n",
      "18.166666666666668\n",
      "11.835626911314986\n",
      "10.142346754539993\n",
      "10.000998910755985\n"
     ]
    }
   ],
   "source": [
    "Y = 100\n",
    "\n",
    "x = Y/3\n",
    "\n",
    "\n",
    "for n in range(5):\n",
    "    print(x)\n",
    "    x = ( x + Y/x ) / 2\n",
    "    \n"
   ]
  },
  {
   "cell_type": "code",
   "execution_count": 3,
   "id": "2f12bce7",
   "metadata": {},
   "outputs": [],
   "source": [
    "nums2sqrt= np.linspace(2,101, 50)\n",
    "\n",
    "niterations = np.arange(3,9)\n",
    "\n",
    "err = np.zeros((len(niterations), len(nums2sqrt)))\n",
    "\n",
    "#loop over numbers to square root\n",
    "for ni, num in enumerate(nums2sqrt):\n",
    "    # set the number to compute the square root of\n",
    "    Y = num\n",
    "    # loop over the number of operations\n",
    "    for ii, iters in enumerate(niterations):\n",
    "        # Heron's algo\n",
    "        x = Y/3 # initial guess\n",
    "        for n in range(iters):\n",
    "            x = ( x + Y/x ) / 2\n",
    "            \n",
    "            # get the error\n",
    "            err[ii, ni] = abs( x-np.sqrt(Y)) \n",
    "            \n",
    "\n",
    "            "
   ]
  },
  {
   "cell_type": "code",
   "execution_count": 4,
   "id": "6ea18d31",
   "metadata": {},
   "outputs": [
    {
     "name": "stderr",
     "output_type": "stream",
     "text": [
      "C:\\Users\\DANNY\\AppData\\Local\\Temp\\ipykernel_11880\\2252387853.py:5: RuntimeWarning: divide by zero encountered in log\n",
      "  plt.imshow(-np.log(err), aspect=10, extent=[nums2sqrt[0],nums2sqrt[-1], niterations[-1], niterations[0]])\n"
     ]
    },
    {
     "data": {
      "text/plain": [
       "<matplotlib.image.AxesImage at 0x240458d5460>"
      ]
     },
     "execution_count": 4,
     "metadata": {},
     "output_type": "execute_result"
    },
    {
     "data": {
      "image/png": "[encoded data removed]",
      "text/plain": [
       "<Figure size 432x288 with 1 Axes>"
      ]
     },
     "metadata": {
      "needs_background": "light"
     },
     "output_type": "display_data"
    }
   ],
   "source": [
    "# minus the log of a small number is often used in applied math and machine learning, becuase you have a number that is \n",
    "# between zero and one and the log is going to give you a really big negative number so when you multiply it to be negative you \n",
    "# flip it\n",
    "\n",
    "plt.imshow(-np.log(err), aspect=10, extent=[nums2sqrt[0],nums2sqrt[-1], niterations[-1], niterations[0]])"
   ]
  },
  {
   "cell_type": "code",
   "execution_count": 6,
   "id": "4c900f34",
   "metadata": {},
   "outputs": [],
   "source": [
    "nums2sqrt= 13\n",
    "startEst = np.linspace(-nums2sqrt,nums2sqrt,40)\n",
    "\n",
    "niters = 5\n",
    "\n",
    "# initialize results matrix\n",
    "\n",
    "sqrtAlgResults = np.zeros((len(startEst), niters+1))\n",
    "\n",
    "#loop over numbers to square root\n",
    "for idx, startNum in enumerate(startEst):\n",
    "    # initialize start value\n",
    "    x = [startNum]\n",
    "    # Heron's algo\n",
    "    for n in range(niters):\n",
    "        newx = ( x[n] + nums2sqrt/x[n] ) / 2\n",
    "        x.append(newx)\n",
    "        \n",
    "    sqrtAlgResults[idx,:]= x\n",
    "            "
   ]
  },
  {
   "cell_type": "code",
   "execution_count": null,
   "id": "947e9189",
   "metadata": {},
   "outputs": [],
   "source": []
  }
 ],
 "metadata": {
  "kernelspec": {
   "display_name": "Python 3 (ipykernel)",
   "language": "python",
   "name": "python3"
  },
  "language_info": {
   "codemirror_mode": {
    "name": "ipython",
    "version": 3
   },
   "file_extension": ".py",
   "mimetype": "text/x-python",
   "name": "python",
   "nbconvert_exporter": "python",
   "pygments_lexer": "ipython3",
   "version": "3.9.12"
  }
 },
 "nbformat": 4,
 "nbformat_minor": 5
}
