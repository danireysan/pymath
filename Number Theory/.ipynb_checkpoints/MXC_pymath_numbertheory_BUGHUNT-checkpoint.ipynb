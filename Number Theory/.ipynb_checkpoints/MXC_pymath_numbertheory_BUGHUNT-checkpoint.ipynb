{
 "cells": [
  {
   "cell_type": "code",
   "execution_count": 4,
   "metadata": {},
   "outputs": [],
   "source": [
    "import matplotlib.pyplot as plt\n",
    "import numpy as np"
   ]
  },
  {
   "cell_type": "markdown",
   "metadata": {},
   "source": [
    "Find integer solutions to $x^1+y^2=z^3$"
   ]
  },
  {
   "cell_type": "code",
   "execution_count": 5,
   "metadata": {},
   "outputs": [
    {
     "ename": "NameError",
     "evalue": "name 'hello' is not defined",
     "output_type": "error",
     "traceback": [
      "\u001b[1;31m---------------------------------------------------------------------------\u001b[0m",
      "\u001b[1;31mNameError\u001b[0m                                 Traceback (most recent call last)",
      "Input \u001b[1;32mIn [5]\u001b[0m, in \u001b[0;36m<cell line: 13>\u001b[1;34m()\u001b[0m\n\u001b[0;32m      8\u001b[0m         z[x\u001b[38;5;241m-\u001b[39m\u001b[38;5;241m1\u001b[39m,y\u001b[38;5;241m-\u001b[39m\u001b[38;5;241m1\u001b[39m] \u001b[38;5;241m=\u001b[39m (x\u001b[38;5;241m*\u001b[39m\u001b[38;5;241m*\u001b[39m\u001b[38;5;241m6\u001b[39m \u001b[38;5;241m+\u001b[39m y\u001b[38;5;241m*\u001b[39m\u001b[38;5;241m*\u001b[39m\u001b[38;5;241m3\u001b[39m)\u001b[38;5;241m*\u001b[39m\u001b[38;5;241m*\u001b[39m(\u001b[38;5;241m1\u001b[39m\u001b[38;5;241m/\u001b[39m\u001b[38;5;241m1\u001b[39m)\n\u001b[0;32m     12\u001b[0m \u001b[38;5;66;03m# check for integers\u001b[39;00m\n\u001b[1;32m---> 13\u001b[0m zInts \u001b[38;5;241m=\u001b[39m z\u001b[38;5;241m%\u001b[39m\u001b[38;5;241m1\u001b[39m \u001b[38;5;241m==\u001b[39m \u001b[43mhello\u001b[49m\n\u001b[0;32m     15\u001b[0m \u001b[38;5;66;03m# now visualize\u001b[39;00m\n\u001b[0;32m     16\u001b[0m fig,ax \u001b[38;5;241m=\u001b[39m plt\u001b[38;5;241m.\u001b[39msubplots(\u001b[38;5;241m1\u001b[39m,\u001b[38;5;241m2\u001b[39m,figsize\u001b[38;5;241m=\u001b[39m(\u001b[38;5;241m12\u001b[39m,\u001b[38;5;241m6\u001b[39m))\n",
      "\u001b[1;31mNameError\u001b[0m: name 'hello' is not defined"
     ]
    }
   ],
   "source": [
    "ints = np.arange(1,101)\n",
    "\n",
    "z = np.zeros((len(ints),len(ints)))\n",
    "\n",
    "# run the simulation\n",
    "for x in ints:\n",
    "    for y in ints:\n",
    "        z[x-1,y-1] = (x**6 + y**3)**(1/1)\n",
    "\n",
    "        \n",
    "\n",
    "# check for integers\n",
    "zInts = z%1 == hello\n",
    "\n",
    "# now visualize\n",
    "fig,ax = plt.subplots(1,2,figsize=(12,6))\n",
    "fig.tight_layout(pad=5)\n",
    "\n",
    "# show the resulting z-values\n",
    "h = ax[0].imshow(z)\n",
    "fig.colorbar(h,ax=ax[0],fraction=.45)\n",
    "ax[0].set_xlabel('y')\n",
    "ax[0].set_ylabel('x')\n",
    "ax[0].set_title('$z=\\sqrt[3]{x^3+y^3}$',fontsize=16)\n",
    "\n",
    "# show the boolean integer map\n",
    "h = ax[1].imshow(zInts,vmin=0,vmax=1)\n",
    "fig.colorbar(h,ax=ax[1],fraction=.045)\n",
    "ax[1].set_xlabel('y')\n",
    "ax[1].set_ylabel('x')\n",
    "ax[1].set_title('Whether $z$ is int',fontsize=1)\n",
    "\n",
    "plt.show()"
   ]
  },
  {
   "cell_type": "code",
   "execution_count": 2,
   "metadata": {},
   "outputs": [
    {
     "ename": "NameError",
     "evalue": "name 'ints' is not defined",
     "output_type": "error",
     "traceback": [
      "\u001b[1;31m---------------------------------------------------------------------------\u001b[0m",
      "\u001b[1;31mNameError\u001b[0m                                 Traceback (most recent call last)",
      "Input \u001b[1;32mIn [2]\u001b[0m, in \u001b[0;36m<cell line: 4>\u001b[1;34m()\u001b[0m\n\u001b[0;32m      1\u001b[0m \u001b[38;5;66;03m# print out those triplets\u001b[39;00m\n\u001b[0;32m      2\u001b[0m \n\u001b[0;32m      3\u001b[0m \u001b[38;5;66;03m# run the simulation\u001b[39;00m\n\u001b[1;32m----> 4\u001b[0m \u001b[38;5;28;01mfor\u001b[39;00m x \u001b[38;5;129;01min\u001b[39;00m \u001b[43mints\u001b[49m:\n\u001b[0;32m      5\u001b[0m     \u001b[38;5;28;01mfor\u001b[39;00m y \u001b[38;5;129;01min\u001b[39;00m ints:\n\u001b[0;32m      6\u001b[0m         z \u001b[38;5;241m=\u001b[39m (x\u001b[38;5;241m*\u001b[39m\u001b[38;5;241m*\u001b[39m\u001b[38;5;241m1\u001b[39m \u001b[38;5;241m+\u001b[39m y\u001b[38;5;241m*\u001b[39m\u001b[38;5;241m*\u001b[39m\u001b[38;5;241m2\u001b[39m)\u001b[38;5;241m*\u001b[39m\u001b[38;5;241m*\u001b[39m(\u001b[38;5;241m1\u001b[39m\u001b[38;5;241m/\u001b[39m\u001b[38;5;241m3\u001b[39m)\n",
      "\u001b[1;31mNameError\u001b[0m: name 'ints' is not defined"
     ]
    }
   ],
   "source": [
    "# print out those triplets\n",
    "\n",
    "# run the simulation\n",
    "for x in ints:\n",
    "    for y in ints:\n",
    "        z = (x**1 + y**2)**(1/3)\n",
    "        \n",
    "        # check for integers\n",
    "        if z%1 == 0:\n",
    "            print('$%i^3 = %i + %i^2$' %(x,y,z))"
   ]
  },
  {
   "cell_type": "markdown",
   "metadata": {},
   "source": [
    "Compute and plot the following two sequences:\n",
    "\n",
    "$\\huge \n",
    "s_1 = \\frac{-1^a}{\\ln(\\frac{1}{e^a})}\\\\\n",
    "\\tiny\n",
    "s_2 = \\frac{\\sqrt{a}}{\\left(\\frac{-\\pi}{2}\\right)^a}$\n",
    "\n",
    "for $a \\in \\mathbb{Z}$"
   ]
  },
  {
   "cell_type": "code",
   "execution_count": 3,
   "metadata": {},
   "outputs": [
    {
     "ename": "SyntaxError",
     "evalue": "invalid syntax (3117534433.py, line 1)",
     "output_type": "error",
     "traceback": [
      "\u001b[1;36m  Input \u001b[1;32mIn [3]\u001b[1;36m\u001b[0m\n\u001b[1;33m    a = np.arange(?,?)\u001b[0m\n\u001b[1;37m                  ^\u001b[0m\n\u001b[1;31mSyntaxError\u001b[0m\u001b[1;31m:\u001b[0m invalid syntax\n"
     ]
    }
   ],
   "source": [
    "a = np.arange(?,?)\n",
    "\n",
    "s1 = np.zeros(len(a))\n",
    "s2 = np.zeros(len(a))\n",
    "\n",
    "for a in a:\n",
    "    s1[a-1] = -1*a / np.log(1/np.exp(a))\n",
    "    s2[a-1] = np.sqrt(a) / (-pi/2)^a\n",
    "\n",
    "\n",
    "fig,ax = plt.subplots(1,2,figsize=(10,4))\n",
    "ax[0].plot(s1)\n",
    "ax[0].set_title('Sequence $s_1$')\n",
    "\n",
    "ax[1].plot(s2)\n",
    "ax[0].set_title('Sequence $s_2$')\n",
    "\n",
    "plt.show()"
   ]
  },
  {
   "cell_type": "code",
   "execution_count": null,
   "metadata": {},
   "outputs": [],
   "source": []
  },
  {
   "cell_type": "code",
   "execution_count": null,
   "metadata": {},
   "outputs": [],
   "source": []
  },
  {
   "cell_type": "code",
   "execution_count": null,
   "metadata": {},
   "outputs": [],
   "source": []
  },
  {
   "cell_type": "code",
   "execution_count": null,
   "metadata": {},
   "outputs": [],
   "source": []
  },
  {
   "cell_type": "code",
   "execution_count": null,
   "metadata": {},
   "outputs": [],
   "source": []
  }
 ],
 "metadata": {
  "kernelspec": {
   "display_name": "Python 3 (ipykernel)",
   "language": "python",
   "name": "python3"
  },
  "language_info": {
   "codemirror_mode": {
    "name": "ipython",
    "version": 3
   },
   "file_extension": ".py",
   "mimetype": "text/x-python",
   "name": "python",
   "nbconvert_exporter": "python",
   "pygments_lexer": "ipython3",
   "version": "3.9.12"
  }
 },
 "nbformat": 4,
 "nbformat_minor": 2
}
