{
 "cells": [
  {
   "cell_type": "code",
   "execution_count": 1,
   "id": "339f001e",
   "metadata": {},
   "outputs": [],
   "source": [
    "import numpy as np\n",
    "import matplotlib.pyplot as plt"
   ]
  },
  {
   "cell_type": "code",
   "execution_count": 23,
   "id": "7ee72219",
   "metadata": {},
   "outputs": [
    {
     "name": "stdout",
     "output_type": "stream",
     "text": [
      "[ 2  5  8 11]\n"
     ]
    }
   ],
   "source": [
    "#arithmetic sequence\n",
    "# parameters\n",
    "a = 2\n",
    "d = 3\n",
    "maxn = 4\n",
    "\n",
    "ariseq = a + d*np.arange(0,maxn)\n",
    "print(ariseq)"
   ]
  },
  {
   "cell_type": "code",
   "execution_count": 33,
   "id": "c1f15a98",
   "metadata": {},
   "outputs": [
    {
     "name": "stdout",
     "output_type": "stream",
     "text": [
      "[    2     6    18    54   162   486  1458  4374 13122 39366]\n"
     ]
    }
   ],
   "source": [
    "a = 2\n",
    "r = 3\n",
    "\n",
    "geoseq = a * r**np.arange(0,maxn)\n",
    "print(geoseq)"
   ]
  },
  {
   "cell_type": "code",
   "execution_count": 34,
   "id": "16a21c70",
   "metadata": {},
   "outputs": [
    {
     "data": {
      "image/png": "[encoded data removed]",
      "text/plain": [
       "<Figure size 432x288 with 1 Axes>"
      ]
     },
     "metadata": {
      "needs_background": "light"
     },
     "output_type": "display_data"
    }
   ],
   "source": [
    "plt.plot(ariseq, 'ks', label='arithmetic')\n",
    "plt.plot(geoseq, 'ro', label='geometric')\n",
    "\n",
    "plt.legend()\n",
    "plt.show()"
   ]
  },
  {
   "cell_type": "code",
   "execution_count": 35,
   "id": "50417737",
   "metadata": {},
   "outputs": [
    {
     "name": "stdout",
     "output_type": "stream",
     "text": [
      "17 17\n",
      "486 486\n"
     ]
    }
   ],
   "source": [
    "# parameters\n",
    "a = 2\n",
    "d = 3\n",
    "maxn = 10\n",
    "nth = 6\n",
    "\n",
    "# compute the sequences\n",
    "ariseq = a + d*np.arange(0,maxn)\n",
    "geoseq = a * d**np.arange(0,maxn)\n",
    "\n",
    "# direct computation\n",
    "ariDirect = a + d*(nth-1)\n",
    "geoDirect = a * d**(nth-1)\n",
    "\n",
    "print(ariDirect, ariseq[nth-1])\n",
    "print(geoDirect, geoseq[nth-1])"
   ]
  },
  {
   "cell_type": "code",
   "execution_count": null,
   "id": "e0c6c71a",
   "metadata": {},
   "outputs": [],
   "source": []
  },
  {
   "cell_type": "code",
   "execution_count": null,
   "id": "a70e3786",
   "metadata": {},
   "outputs": [],
   "source": []
  }
 ],
 "metadata": {
  "kernelspec": {
   "display_name": "Python 3",
   "language": "python",
   "name": "python3"
  },
  "language_info": {
   "codemirror_mode": {
    "name": "ipython",
    "version": 3
   },
   "file_extension": ".py",
   "mimetype": "text/x-python",
   "name": "python",
   "nbconvert_exporter": "python",
   "pygments_lexer": "ipython3",
   "version": "3.8.8"
  }
 },
 "nbformat": 4,
 "nbformat_minor": 5
}
