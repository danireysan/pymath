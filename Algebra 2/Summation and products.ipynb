{
 "cells": [
  {
   "cell_type": "code",
   "execution_count": 6,
   "id": "93bd99fe",
   "metadata": {},
   "outputs": [],
   "source": [
    "import numpy as np\n",
    "import matplotlib.pyplot as plt"
   ]
  },
  {
   "cell_type": "code",
   "execution_count": 7,
   "id": "2fe34c6c",
   "metadata": {},
   "outputs": [
    {
     "name": "stdout",
     "output_type": "stream",
     "text": [
      "15\n",
      "15\n"
     ]
    }
   ],
   "source": [
    "lst = [1,3,4,1,6]\n",
    "\n",
    "print( sum(lst) )\n",
    "print( np.sum(lst) )"
   ]
  },
  {
   "cell_type": "code",
   "execution_count": 8,
   "id": "44155855",
   "metadata": {},
   "outputs": [
    {
     "data": {
      "text/plain": [
       "72"
      ]
     },
     "execution_count": 8,
     "metadata": {},
     "output_type": "execute_result"
    }
   ],
   "source": [
    "np.prod(lst)"
   ]
  },
  {
   "cell_type": "code",
   "execution_count": 12,
   "id": "5cfac90a",
   "metadata": {},
   "outputs": [
    {
     "data": {
      "image/png": "[encoded data removed]",
      "text/plain": [
       "<Figure size 432x288 with 1 Axes>"
      ]
     },
     "metadata": {
      "needs_background": "light"
     },
     "output_type": "display_data"
    }
   ],
   "source": [
    "np.cumsum(lst)\n",
    "\n",
    "plt.plot(lst, 'rs-')\n",
    "plt.plot(np.cumsum(lst), 'bo-')\n",
    "\n",
    "plt.legend(['set', 'cummulative sum'])\n",
    "plt.show()"
   ]
  },
  {
   "cell_type": "code",
   "execution_count": 20,
   "id": "15708e1f",
   "metadata": {},
   "outputs": [
    {
     "name": "stdout",
     "output_type": "stream",
     "text": [
      "Option 1 = 0.2727272727272727 \n",
      "Option 2 = 0.06666666666666667\n"
     ]
    }
   ],
   "source": [
    "# 1) summation\n",
    "a = np.arange(1,6)\n",
    "\n",
    "suma = np.sum(a)\n",
    "suma2 = np.sum(a**2)\n",
    " \n",
    "ans1 = suma / suma2\n",
    "ans2 = 1 / suma\n",
    "\n",
    "print('Option 1 = %s \\nOption 2 = %s' %(ans1, ans2))"
   ]
  },
  {
   "cell_type": "code",
   "execution_count": 21,
   "id": "d0b0d5d5",
   "metadata": {},
   "outputs": [
    {
     "name": "stdout",
     "output_type": "stream",
     "text": [
      "Option 1 = 0.008333333333333333 \n",
      "Option 2 = 0.008333333333333333\n"
     ]
    }
   ],
   "source": [
    "# 2) oroducts\n",
    "a = np.arange(1,6)\n",
    "\n",
    "proda = np.prod(a)\n",
    "prod2 = np.prod(a**2)\n",
    " \n",
    "ans1 = proda / proda2\n",
    "ans2 = 1 / proda\n",
    "\n",
    "print('Option 1 = %s \\nOption 2 = %s' %(ans1, ans2))"
   ]
  },
  {
   "cell_type": "code",
   "execution_count": null,
   "id": "c8337d3f",
   "metadata": {},
   "outputs": [],
   "source": []
  }
 ],
 "metadata": {
  "kernelspec": {
   "display_name": "Python 3",
   "language": "python",
   "name": "python3"
  },
  "language_info": {
   "codemirror_mode": {
    "name": "ipython",
    "version": 3
   },
   "file_extension": ".py",
   "mimetype": "text/x-python",
   "name": "python",
   "nbconvert_exporter": "python",
   "pygments_lexer": "ipython3",
   "version": "3.8.8"
  }
 },
 "nbformat": 4,
 "nbformat_minor": 5
}
