{
 "cells": [
  {
   "cell_type": "code",
   "execution_count": 12,
   "id": "9b5365ae",
   "metadata": {},
   "outputs": [],
   "source": [
    "import numpy as np\n",
    "import scipy as sp\n",
    "import matplotlib.pyplot as plt"
   ]
  },
  {
   "cell_type": "code",
   "execution_count": 13,
   "id": "89b70a33",
   "metadata": {},
   "outputs": [],
   "source": [
    "# as a function!\n",
    "\n",
    "def quadeq(a,b,c):\n",
    "    \n",
    "    # initialize\n",
    "    out = np.zeros(2, dtype='complex')\n",
    "    \n",
    "    # compute\n",
    "    out[0] = ( -b - np.lib.scimath.sqrt(b**2 - 4*a*c) ) / (2*a)\n",
    "    out[1] = ( -b + np.lib.scimath.sqrt(b**2 - 4*a*c) ) / (2*a)\n",
    "    \n",
    "    # output\n",
    "    return out"
   ]
  },
  {
   "cell_type": "code",
   "execution_count": 14,
   "id": "208fa56e",
   "metadata": {},
   "outputs": [
    {
     "name": "stdout",
     "output_type": "stream",
     "text": [
      "[-1.16666667-0.5527708j -1.16666667+0.5527708j]\n",
      "[-4.44948974+0.j  0.44948974+0.j]\n"
     ]
    }
   ],
   "source": [
    "# test!\n",
    "print(quadeq(3,7,5))\n",
    "\n",
    "print(quadeq(1,4,-2))"
   ]
  },
  {
   "cell_type": "code",
   "execution_count": 43,
   "id": "143dfefa",
   "metadata": {},
   "outputs": [
    {
     "data": {
      "image/png": "[encoded data removed]",
      "text/plain": [
       "<Figure size 432x288 with 3 Axes>"
      ]
     },
     "metadata": {
      "needs_background": "light"
     },
     "output_type": "display_data"
    }
   ],
   "source": [
    "a = 1\n",
    "b = range(-5,6)\n",
    "c = range(-2,11)\n",
    "\n",
    "M = np.zeros((len(b),len(c)),dtype=complex)\n",
    "\n",
    "for i in range(0,len(b)):\n",
    "    for j in range(0,len(c)):\n",
    "        M[i,j] = quadeq(a,b[i],c[j])[0]\n",
    "\n",
    "plt.subplot(1,3,1)\n",
    "plt.imshow(np.real(M),extent=[ c[0],c[-1],b[0],b[-1] ],origin='lower')\n",
    "plt.title('real part')\n",
    "\n",
    "plt.subplot(1,3,2)\n",
    "plt.imshow(np.imag(M),extent=[ c[0],c[-1],b[0],b[-1] ],origin='lower')\n",
    "plt.axis('off')\n",
    "plt.title('imag part')\n",
    "\n",
    "\n",
    "plt.subplot(1,3,3)\n",
    "plt.imshow(np.absolute(M),extent=[ c[0],c[-1],b[0],b[-1] ],origin='lower')\n",
    "plt.axis('off')\n",
    "plt.title('magnitude')\n",
    "\n",
    "plt.show()"
   ]
  },
  {
   "cell_type": "code",
   "execution_count": null,
   "id": "e7e4fb1d",
   "metadata": {},
   "outputs": [],
   "source": []
  }
 ],
 "metadata": {
  "kernelspec": {
   "display_name": "Python 3",
   "language": "python",
   "name": "python3"
  },
  "language_info": {
   "codemirror_mode": {
    "name": "ipython",
    "version": 3
   },
   "file_extension": ".py",
   "mimetype": "text/x-python",
   "name": "python",
   "nbconvert_exporter": "python",
   "pygments_lexer": "ipython3",
   "version": "3.8.8"
  }
 },
 "nbformat": 4,
 "nbformat_minor": 5
}
