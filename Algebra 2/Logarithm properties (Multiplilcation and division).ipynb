{
 "cells": [
  {
   "cell_type": "code",
   "execution_count": 2,
   "id": "254ccf08",
   "metadata": {},
   "outputs": [],
   "source": [
    "import numpy as np\n",
    "from IPython.display import display, Math"
   ]
  },
  {
   "cell_type": "code",
   "execution_count": 8,
   "id": "e53cce30",
   "metadata": {},
   "outputs": [
    {
     "data": {
      "text/latex": [
       "$\\displaystyle \\log(3\\times4) = 2.48491$"
      ],
      "text/plain": [
       "<IPython.core.display.Math object>"
      ]
     },
     "metadata": {},
     "output_type": "display_data"
    },
    {
     "data": {
      "text/latex": [
       "$\\displaystyle \\log(3)\\times\\log(4) = 1.523$"
      ],
      "text/plain": [
       "<IPython.core.display.Math object>"
      ]
     },
     "metadata": {},
     "output_type": "display_data"
    },
    {
     "data": {
      "text/latex": [
       "$\\displaystyle \\log(3)+log(4) = 1.523$"
      ],
      "text/plain": [
       "<IPython.core.display.Math object>"
      ]
     },
     "metadata": {},
     "output_type": "display_data"
    },
    {
     "data": {
      "text/latex": [
       "$\\displaystyle \\log(3\\times4) = \\log(3)+log(4)$"
      ],
      "text/plain": [
       "<IPython.core.display.Math object>"
      ]
     },
     "metadata": {},
     "output_type": "display_data"
    },
    {
     "data": {
      "text/latex": [
       "$\\displaystyle \\log(3\\times4) \\neq \\log(3)\\times\\log(4)$"
      ],
      "text/plain": [
       "<IPython.core.display.Math object>"
      ]
     },
     "metadata": {},
     "output_type": "display_data"
    }
   ],
   "source": [
    "a = 3\n",
    "b = 4\n",
    "\n",
    "res1 = np.log(a*b)\n",
    "res2 = np.log(a) * np.log(b)\n",
    "res3 = np.log(a) + np.log(b)\n",
    "\n",
    "display(Math('\\\\log(%g\\\\times%g) = %g' %(a,b, res1)))\n",
    "display(Math('\\\\log(%g)\\\\times\\\\log(%g) = %g' %(a,b, res2)))\n",
    "display(Math('\\\\log(%g)+log(%g) = %g' %(a,b, res2)))\n",
    "\n",
    "display(Math('\\\\log(%g\\\\times%g) = \\\\log(%g)+log(%g)' %(a,b, a, b)))\n",
    "display(Math('\\\\log(%g\\\\times%g) \\\\neq \\\\log(%g)\\\\times\\\\log(%g)' %(a,b, a, b)))"
   ]
  },
  {
   "cell_type": "code",
   "execution_count": 17,
   "id": "34d0dcf4",
   "metadata": {},
   "outputs": [
    {
     "data": {
      "text/latex": [
       "$\\displaystyle \\log(\\frac{3}{4}) = -0.287682$"
      ],
      "text/plain": [
       "<IPython.core.display.Math object>"
      ]
     },
     "metadata": {},
     "output_type": "display_data"
    },
    {
     "data": {
      "text/latex": [
       "$\\displaystyle \\log(3)/\\log(4) = 0.792481$"
      ],
      "text/plain": [
       "<IPython.core.display.Math object>"
      ]
     },
     "metadata": {},
     "output_type": "display_data"
    },
    {
     "data": {
      "text/latex": [
       "$\\displaystyle \\log(3)-log(4) = 0.792481$"
      ],
      "text/plain": [
       "<IPython.core.display.Math object>"
      ]
     },
     "metadata": {},
     "output_type": "display_data"
    },
    {
     "data": {
      "text/latex": [
       "$\\displaystyle \\log{\\left( \\frac{3}{4} \\right)}= \\log(3)+log(4)$"
      ],
      "text/plain": [
       "<IPython.core.display.Math object>"
      ]
     },
     "metadata": {},
     "output_type": "display_data"
    },
    {
     "data": {
      "text/latex": [
       "$\\displaystyle \\log \\left( \\frac{3}{4} \\right) \\neq \\log(3)/\\log(4)$"
      ],
      "text/plain": [
       "<IPython.core.display.Math object>"
      ]
     },
     "metadata": {},
     "output_type": "display_data"
    }
   ],
   "source": [
    "a = 3\n",
    "b = 4\n",
    "\n",
    "res1 = np.log(a/b)\n",
    "res2 = np.log(a) / np.log(b)\n",
    "res3 = np.log(a) - np.log(b)\n",
    "\n",
    "display(Math('\\\\log(\\\\frac{%g}{%g}) = %g' %(a,b, res1)))\n",
    "display(Math('\\\\log(%g)/\\\\log(%g) = %g' %(a,b, res2)))\n",
    "display(Math('\\\\log(%g)-log(%g) = %g' %(a,b, res2)))\n",
    "\n",
    "display(Math('\\\\log{\\\\left( \\\\frac{%g}{%g} \\\\right)}= \\\\log(%g)+log(%g)' %(a,b, a, b)))\n",
    "display(Math('\\\\log \\\\left( \\\\frac{%g}{%g} \\\\right) \\\\neq \\\\log(%g)/\\\\log(%g)' %(a,b, a, b)))"
   ]
  },
  {
   "cell_type": "code",
   "execution_count": 19,
   "id": "53659fe8",
   "metadata": {},
   "outputs": [
    {
     "name": "stdout",
     "output_type": "stream",
     "text": [
      "4.394449154672439 4.394449154672439 4.394449154672439\n"
     ]
    }
   ],
   "source": [
    "expr1 = np.log(a**b)\n",
    "expr2 = b*np.log(a)\n",
    "expr3 = np.log(a) + np.log(a) + np.log(a) + np.log(a)\n",
    "\n",
    "print(expr1, expr2, expr3)"
   ]
  },
  {
   "cell_type": "code",
   "execution_count": null,
   "id": "241e68be",
   "metadata": {},
   "outputs": [],
   "source": []
  }
 ],
 "metadata": {
  "kernelspec": {
   "display_name": "Python 3",
   "language": "python",
   "name": "python3"
  },
  "language_info": {
   "codemirror_mode": {
    "name": "ipython",
    "version": 3
   },
   "file_extension": ".py",
   "mimetype": "text/x-python",
   "name": "python",
   "nbconvert_exporter": "python",
   "pygments_lexer": "ipython3",
   "version": "3.8.8"
  }
 },
 "nbformat": 4,
 "nbformat_minor": 5
}
