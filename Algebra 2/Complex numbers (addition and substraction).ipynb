{
 "cells": [
  {
   "cell_type": "code",
   "execution_count": 10,
   "id": "864c57a4",
   "metadata": {},
   "outputs": [
    {
     "name": "stdout",
     "output_type": "stream",
     "text": [
      "1j\n",
      "1j\n",
      "(6.123233995736766e-17+1j)\n",
      "I\n"
     ]
    }
   ],
   "source": [
    "import numpy as np\n",
    "import sympy as sym\n",
    "print( 1j )\n",
    "print( np.sqrt(-1, dtype='complex'))\n",
    "print((-1)**(1/2))\n",
    "print( sym.I)"
   ]
  },
  {
   "cell_type": "code",
   "execution_count": 18,
   "id": "575f2112",
   "metadata": {},
   "outputs": [
    {
     "name": "stdout",
     "output_type": "stream",
     "text": [
      "<class 'complex'>\n",
      "(4-5j)\n"
     ]
    }
   ],
   "source": [
    "real_part = 4\n",
    "imag_part = -5\n",
    "\n",
    "cn1 = complex(real_part, imag_part)\n",
    "cn2 = real_part + 1j*imag_part\n",
    "\n",
    "print(type(cn1))\n",
    "print(cn2)"
   ]
  },
  {
   "cell_type": "code",
   "execution_count": 24,
   "id": "7959938e",
   "metadata": {},
   "outputs": [
    {
     "data": {
      "text/plain": [
       "5.0"
      ]
     },
     "execution_count": 24,
     "metadata": {},
     "output_type": "execute_result"
    }
   ],
   "source": [
    "z1 = complex(4,5)\n",
    "z2 = complex(3,2)\n",
    "\n",
    "np.imag(z1)\n"
   ]
  },
  {
   "cell_type": "code",
   "execution_count": 28,
   "id": "b90174d1",
   "metadata": {},
   "outputs": [],
   "source": [
    "w = complex(2,4)\n",
    "z = complex(5,6)\n",
    "\n",
    "realsum = np.real(w) + np.real(z)\n",
    "imagsum = np.imag(w) + np.imag(z)\n",
    "\n",
    "wPlusZ_separate = complex(realsum, imagsum)\n",
    "wPlusZ_dirext= w+z\n"
   ]
  },
  {
   "cell_type": "code",
   "execution_count": null,
   "id": "36e3eff7",
   "metadata": {},
   "outputs": [],
   "source": []
  }
 ],
 "metadata": {
  "kernelspec": {
   "display_name": "Python 3",
   "language": "python",
   "name": "python3"
  },
  "language_info": {
   "codemirror_mode": {
    "name": "ipython",
    "version": 3
   },
   "file_extension": ".py",
   "mimetype": "text/x-python",
   "name": "python",
   "nbconvert_exporter": "python",
   "pygments_lexer": "ipython3",
   "version": "3.8.8"
  }
 },
 "nbformat": 4,
 "nbformat_minor": 5
}
