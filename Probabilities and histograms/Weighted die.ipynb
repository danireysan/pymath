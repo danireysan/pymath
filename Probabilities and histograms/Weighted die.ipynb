{
 "cells": [
  {
   "cell_type": "code",
   "execution_count": 1,
   "id": "5f1a3607",
   "metadata": {},
   "outputs": [],
   "source": [
    "import numpy as np\n",
    "import matplotlib.pyplot as plt"
   ]
  },
  {
   "cell_type": "code",
   "execution_count": 9,
   "id": "383541b0",
   "metadata": {},
   "outputs": [
    {
     "data": {
      "image/png": "[encoded data removed]",
      "text/plain": [
       "<Figure size 432x288 with 1 Axes>"
      ]
     },
     "metadata": {
      "needs_background": "light"
     },
     "output_type": "display_data"
    }
   ],
   "source": [
    "n = 50\n",
    "\n",
    "outcomes = np.zeros(6)\n",
    "\n",
    "purebrobs = np.array([2,1,1,1,1,1])\n",
    "purebrobs = purebrobs / np.sum(purebrobs)\n",
    "\n",
    "for i in range(n):\n",
    "    # roll a 7-sided die\n",
    "    dieroll = np.random.randint(0,7)\n",
    "    \n",
    "    if dieroll == 6:\n",
    "        dieroll = 0\n",
    "        \n",
    "    outcomes[dieroll] += 1\n",
    "    \n",
    "\n",
    "plt.bar(range(1,7),outcomes/n, color='k', label=\"Impirical proportion\")\n",
    "plt.plot(range(1,7), purebrobs, 'ms-', markersize= 10, label=\"Theorical probability\")\n",
    "\n",
    "plt.show()"
   ]
  },
  {
   "cell_type": "code",
   "execution_count": null,
   "id": "2f631fc4",
   "metadata": {},
   "outputs": [],
   "source": []
  }
 ],
 "metadata": {
  "kernelspec": {
   "display_name": "Python 3 (ipykernel)",
   "language": "python",
   "name": "python3"
  },
  "language_info": {
   "codemirror_mode": {
    "name": "ipython",
    "version": 3
   },
   "file_extension": ".py",
   "mimetype": "text/x-python",
   "name": "python",
   "nbconvert_exporter": "python",
   "pygments_lexer": "ipython3",
   "version": "3.9.12"
  }
 },
 "nbformat": 4,
 "nbformat_minor": 5
}
