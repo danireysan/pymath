{
 "cells": [
  {
   "cell_type": "code",
   "execution_count": 2,
   "id": "2abc90e3",
   "metadata": {},
   "outputs": [],
   "source": [
    "import numpy as np\n",
    "import matplotlib.pyplot as plt\n",
    "from scipy.stats import rankdata"
   ]
  },
  {
   "cell_type": "code",
   "execution_count": 10,
   "id": "24288ed6",
   "metadata": {},
   "outputs": [
    {
     "data": {
      "image/png": "[encoded data removed]",
      "text/plain": [
       "<Figure size 432x288 with 2 Axes>"
      ]
     },
     "metadata": {
      "needs_background": "light"
     },
     "output_type": "display_data"
    }
   ],
   "source": [
    "n = 500\n",
    "\n",
    "orig_data = 2**np.random.randn(n)\n",
    "\n",
    "# rank data \n",
    "rank_data = rankdata(orig_data)\n",
    "\n",
    "fix, ax = plt.subplots(1,2)\n",
    "\n",
    "ax[0].hist(orig_data,30)\n",
    "ax[0].set_xlabel('Value')\n",
    "ax[0].set_ylabel('Count')\n",
    "\n",
    "ax[1].hist(rank_data,30)\n",
    "ax[1].set_xlabel('Value')\n",
    "ax[1].set_ylabel('Count')\n",
    "\n",
    "plt.show()"
   ]
  },
  {
   "cell_type": "code",
   "execution_count": 8,
   "id": "1922d15a",
   "metadata": {},
   "outputs": [
    {
     "data": {
      "text/plain": [
       "array([3., 1., 2., 4.])"
      ]
     },
     "execution_count": 8,
     "metadata": {},
     "output_type": "execute_result"
    }
   ],
   "source": [
    "# rankdata sorts numbers according to who is the smallest and the largest in a rank \n",
    "rankdata([1.11,1,1.1,100000000])"
   ]
  },
  {
   "cell_type": "code",
   "execution_count": 17,
   "id": "5a8c9b40",
   "metadata": {},
   "outputs": [
    {
     "data": {
      "image/png": "[encoded data removed]",
      "text/plain": [
       "<Figure size 432x288 with 2 Axes>"
      ]
     },
     "metadata": {
      "needs_background": "light"
     },
     "output_type": "display_data"
    }
   ],
   "source": [
    "n = 500\n",
    "\n",
    "orig_data = 2**np.random.randn(n)\n",
    "\n",
    "# rank data \n",
    "rank_data = rankdata(orig_data)\n",
    "rank_data = np.append(rank_data,np.max(rank_data)+1)\n",
    "# normalize to [-1 1]\n",
    "norm_data = 2*(rank_data/np.max(rank_data))-1\n",
    "norm_data = np.delete(norm_data,n)\n",
    "# apply the inverse hyperbolic tangent transform\n",
    "trans_data = np.arctanh(norm_data)\n",
    "\n",
    "fix, ax = plt.subplots(1,2)\n",
    "\n",
    "ax[0].hist(orig_data,30)\n",
    "ax[0].set_xlabel('Value')\n",
    "ax[0].set_ylabel('Count')\n",
    "\n",
    "ax[1].hist(trans_data,30)\n",
    "ax[1].set_xlabel('Value')\n",
    "ax[1].set_ylabel('Count')\n",
    "\n",
    "plt.show()"
   ]
  },
  {
   "cell_type": "markdown",
   "id": "7bf7985a",
   "metadata": {},
   "source": [
    "\n",
    "many fields of data analysis consider this important because many tools require or assume that the data is normally distributed"
   ]
  }
 ],
 "metadata": {
  "kernelspec": {
   "display_name": "Python 3 (ipykernel)",
   "language": "python",
   "name": "python3"
  },
  "language_info": {
   "codemirror_mode": {
    "name": "ipython",
    "version": 3
   },
   "file_extension": ".py",
   "mimetype": "text/x-python",
   "name": "python",
   "nbconvert_exporter": "python",
   "pygments_lexer": "ipython3",
   "version": "3.9.12"
  }
 },
 "nbformat": 4,
 "nbformat_minor": 5
}
