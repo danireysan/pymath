{
 "cells": [
  {
   "cell_type": "code",
   "execution_count": 4,
   "id": "0652e3f3",
   "metadata": {},
   "outputs": [],
   "source": [
    "import sympy as sym\n",
    "import numpy as np\n",
    "import matplotlib.pyplot as plt\n",
    "from matplotlib.patches import Polygon\n",
    "\n",
    "\n",
    "from IPython.display import display, Math"
   ]
  },
  {
   "cell_type": "code",
   "execution_count": 13,
   "id": "999063b7",
   "metadata": {},
   "outputs": [
    {
     "data": {
      "image/png": "[encoded data removed]",
      "text/plain": [
       "<Figure size 432x288 with 1 Axes>"
      ]
     },
     "metadata": {
      "needs_background": "light"
     },
     "output_type": "display_data"
    }
   ],
   "source": [
    "x = sym.symbols(\"x\")\n",
    "\n",
    "symf = x**2\n",
    "symg = x\n",
    "\n",
    "f = sym.lambdify(x,symf )\n",
    "g = sym.lambdify(x, symg)\n",
    "\n",
    "xx = np.linspace(-2,2, 55)\n",
    "\n",
    "# add patch\n",
    "\n",
    "xpatch = np.linspace(0,1,100)\n",
    "ypatch = np.vstack((g(xpatch), f(xpatch))).T\n",
    "\n",
    "fig, ax = plt.subplots()\n",
    "\n",
    "ax.add_patch( Polygon(ypatch, alpha= 0.3))\n",
    "\n",
    "\n",
    "plt.plot(xx, f(xx))\n",
    "plt.plot(xx, g(xx), 'r') \n",
    "\n",
    "plt.legend(['$f(x) = %s$' %sym.latex(symf), '$g(x) = %s$' %sym.latex(symg)])\n",
    "plt.axis([-0.25, 1.25, -.5, 1.5])\n",
    "plt.show()"
   ]
  },
  {
   "cell_type": "markdown",
   "id": "21615ccc",
   "metadata": {},
   "source": [
    "# Computing the area between two functions\n",
    "\n",
    "The area between two functions is given by the formula $A = \\\\int_{a}^{b} f(x) \\- g(x)\\$\n",
    "\n",
    "In our example, $f(x) = x^2$ and $g(x) = x$\n",
    "\n",
    "Therefore, $A = \\\\int_{a}^{b} (x^2 - x) \\ dx\\$\n",
    "\n",
    "The two solutions are $x = 0$ and $x = 1$. This gives us the define integral of \n",
    "<p style=\"text-align: center;\">\\[ \\int_{0}^{1} (x^2 - x) \\,dx \\]\t</p>\n",
    "\n",
    "The final answer will be in the code below"
   ]
  },
  {
   "cell_type": "code",
   "execution_count": 15,
   "id": "8c87a507",
   "metadata": {},
   "outputs": [
    {
     "data": {
      "text/latex": [
       "$\\displaystyle \\frac{1}{6}$"
      ],
      "text/plain": [
       "1/6"
      ]
     },
     "execution_count": 15,
     "metadata": {},
     "output_type": "execute_result"
    }
   ],
   "source": [
    "integral = sym.integrate(symg - symf,(x, 0, 1))\n",
    "integral"
   ]
  },
  {
   "cell_type": "code",
   "execution_count": 31,
   "id": "d3e156fb",
   "metadata": {},
   "outputs": [
    {
     "data": {
      "text/latex": [
       "$\\displaystyle f(x)\\text{ and } g(x) \\text{ intersect at }x =0 \\text{ and } 1$"
      ],
      "text/plain": [
       "<IPython.core.display.Math object>"
      ]
     },
     "metadata": {},
     "output_type": "display_data"
    },
    {
     "data": {
      "text/latex": [
       "$\\displaystyle \\text{The area betweem this functions is } 1/6$"
      ],
      "text/plain": [
       "<IPython.core.display.Math object>"
      ]
     },
     "metadata": {},
     "output_type": "display_data"
    }
   ],
   "source": [
    "# the teacher solution\n",
    "fg_intersect = sym.solve(symf-symg)\n",
    "display(Math('f(x)\\\\text{ and } g(x) \\\\text{ intersect at }x =%g \\\\text{ and } %g' %(fg_intersect[0], fg_intersect[1])))\n",
    "\n",
    "A = sym.integrate(symg - symf, (x, fg_intersect[0], fg_intersect[1]))\n",
    "display(Math('\\\\text{The area betweem this functions is } %s'  %A))"
   ]
  },
  {
   "cell_type": "code",
   "execution_count": null,
   "id": "2e3828d4",
   "metadata": {},
   "outputs": [],
   "source": []
  }
 ],
 "metadata": {
  "kernelspec": {
   "display_name": "Python 3 (ipykernel)",
   "language": "python",
   "name": "python3"
  },
  "language_info": {
   "codemirror_mode": {
    "name": "ipython",
    "version": 3
   },
   "file_extension": ".py",
   "mimetype": "text/x-python",
   "name": "python",
   "nbconvert_exporter": "python",
   "pygments_lexer": "ipython3",
   "version": "3.9.12"
  }
 },
 "nbformat": 4,
 "nbformat_minor": 5
}
