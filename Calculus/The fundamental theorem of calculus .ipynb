{
 "cells": [
  {
   "cell_type": "code",
   "execution_count": 1,
   "id": "686b0525",
   "metadata": {},
   "outputs": [],
   "source": [
    "import sympy as sym\n",
    "from IPython.display import display, Math"
   ]
  },
  {
   "cell_type": "code",
   "execution_count": 27,
   "id": "3d6ffc94",
   "metadata": {},
   "outputs": [
    {
     "data": {
      "text/latex": [
       "$\\displaystyle f(x) = 2 x^{2} + \\sin{\\left(x \\right)}$"
      ],
      "text/plain": [
       "<IPython.core.display.Math object>"
      ]
     },
     "metadata": {},
     "output_type": "display_data"
    },
    {
     "data": {
      "text/latex": [
       "$\\displaystyle f(x)' = 2 x^{2} + \\sin{\\left(x \\right)}$"
      ],
      "text/plain": [
       "<IPython.core.display.Math object>"
      ]
     },
     "metadata": {},
     "output_type": "display_data"
    },
    {
     "data": {
      "text/latex": [
       "$\\displaystyle f(x) = 2 x^{2} + \\sin{\\left(x \\right)}$"
      ],
      "text/plain": [
       "<IPython.core.display.Math object>"
      ]
     },
     "metadata": {},
     "output_type": "display_data"
    }
   ],
   "source": [
    "\n",
    "# The function\n",
    "x = sym.symbols(\"x\")\n",
    "\n",
    "f = 2 * x ** 2 + sym.sin(x)\n",
    "\n",
    "df = sym.diff(f)\n",
    "\n",
    "idf = sym.integrate(f)\n",
    "\n",
    "display(Math('f(x) = %s' %sym.latex(f)) )\n",
    "display(Math('f(x)\\' = %s' %sym.latex(f)) )\n",
    "display(Math('\\\\int (f\\') = %s' %sym.latex(f)) )"
   ]
  },
  {
   "cell_type": "code",
   "execution_count": 23,
   "id": "30808f2e",
   "metadata": {},
   "outputs": [
    {
     "data": {
      "text/latex": [
       "$\\displaystyle 2 x^{2} + \\sin{\\left(x \\right)}$"
      ],
      "text/plain": [
       "2*x**2 + sin(x)"
      ]
     },
     "execution_count": 23,
     "metadata": {},
     "output_type": "execute_result"
    }
   ],
   "source": [
    "# The derivate of the integral of f\n",
    "derivative  = sym.diff(idf)\n",
    "\n",
    "derivative "
   ]
  },
  {
   "cell_type": "code",
   "execution_count": 21,
   "id": "1dd0e65a",
   "metadata": {},
   "outputs": [
    {
     "data": {
      "text/latex": [
       "$\\displaystyle 2 x^{2} + \\sin{\\left(x \\right)}$"
      ],
      "text/plain": [
       "2*x**2 + sin(x)"
      ]
     },
     "execution_count": 21,
     "metadata": {},
     "output_type": "execute_result"
    }
   ],
   "source": [
    "# The integral of the derivative of f\n",
    "\n",
    "integral = sym.integrate(df)\n",
    "\n",
    "integral"
   ]
  },
  {
   "cell_type": "code",
   "execution_count": null,
   "id": "3e0085a6",
   "metadata": {},
   "outputs": [],
   "source": []
  }
 ],
 "metadata": {
  "kernelspec": {
   "display_name": "Python 3 (ipykernel)",
   "language": "python",
   "name": "python3"
  },
  "language_info": {
   "codemirror_mode": {
    "name": "ipython",
    "version": 3
   },
   "file_extension": ".py",
   "mimetype": "text/x-python",
   "name": "python",
   "nbconvert_exporter": "python",
   "pygments_lexer": "ipython3",
   "version": "3.9.12"
  }
 },
 "nbformat": 4,
 "nbformat_minor": 5
}
