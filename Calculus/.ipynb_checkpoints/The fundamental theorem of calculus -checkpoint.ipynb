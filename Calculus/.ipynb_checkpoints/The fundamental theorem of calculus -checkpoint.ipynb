{
 "cells": [
  {
   "cell_type": "code",
   "execution_count": 1,
   "id": "86081181",
   "metadata": {},
   "outputs": [],
   "source": [
    "import sympy as sym\n",
    "from IPython.display import display, Math"
   ]
  },
  {
   "cell_type": "code",
   "execution_count": 15,
   "id": "f7b1834c",
   "metadata": {},
   "outputs": [],
   "source": [
    "x = sym.symbols(\"x\")\n",
    "\n",
    "f = 2 * x ** 2 + sym.sin(x)\n",
    "\n",
    "df = sym.diff(f)\n",
    "\n",
    "integralF = sym.integrate(f)"
   ]
  },
  {
   "cell_type": "code",
   "execution_count": 16,
   "id": "31d4ec7f",
   "metadata": {},
   "outputs": [
    {
     "data": {
      "text/latex": [
       "$\\displaystyle 2 x^{2} + \\sin{\\left(x \\right)}$"
      ],
      "text/plain": [
       "2*x**2 + sin(x)"
      ]
     },
     "execution_count": 16,
     "metadata": {},
     "output_type": "execute_result"
    }
   ],
   "source": [
    "# The derivate of the integral of f\n",
    "derivative  = sym.diff(integralF)\n",
    "\n",
    "derivative "
   ]
  },
  {
   "cell_type": "code",
   "execution_count": 18,
   "id": "4b05ba70",
   "metadata": {},
   "outputs": [
    {
     "data": {
      "text/latex": [
       "$\\displaystyle 2 x^{2} + \\sin{\\left(x \\right)}$"
      ],
      "text/plain": [
       "2*x**2 + sin(x)"
      ]
     },
     "execution_count": 18,
     "metadata": {},
     "output_type": "execute_result"
    }
   ],
   "source": [
    "# The integral of the derivative of f\n",
    "\n",
    "integral = sym.integrate(df)\n",
    "\n",
    "integral"
   ]
  },
  {
   "cell_type": "code",
   "execution_count": null,
   "id": "8f239eab",
   "metadata": {},
   "outputs": [],
   "source": []
  }
 ],
 "metadata": {
  "kernelspec": {
   "display_name": "Python 3 (ipykernel)",
   "language": "python",
   "name": "python3"
  },
  "language_info": {
   "codemirror_mode": {
    "name": "ipython",
    "version": 3
   },
   "file_extension": ".py",
   "mimetype": "text/x-python",
   "name": "python",
   "nbconvert_exporter": "python",
   "pygments_lexer": "ipython3",
   "version": "3.9.12"
  }
 },
 "nbformat": 4,
 "nbformat_minor": 5
}
