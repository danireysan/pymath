{
   "cells": [
    {
     "cell_type": "code",
     "execution_count": 5,
     "metadata": {},
     "outputs": [],
     "source": [
      "import sympy as sym\n",
      "import numpy as np\n",
      "import matplotlib.pyplot as plt\n",
      "from IPython.display import display, Math"
     ]
    },
    {
     "cell_type": "code",
     "execution_count": 6,
     "metadata": {},
     "outputs": [],
     "source": [
      "x = sym.symbols('x')\n",
      "\n",
      "fx = x**2\n",
      "\n",
      "dfx = sym.diff(fx)"
     ]
    },
    {
     "cell_type": "code",
     "execution_count": 7,
     "metadata": {},
     "outputs": [
      {
       "data": {
        "text/latex": [
         "$\\displaystyle f(x) = x^{2}, \\quad \\frac{df}{dx}=2 x$"
        ],
        "text/plain": [
         "<IPython.core.display.Math object>"
        ]
       },
       "metadata": {},
       "output_type": "display_data"
      },
      {
       "data": {
        "text/latex": [
         "$\\displaystyle f(x) = x^{2}, \\quad f'=2 x$"
        ],
        "text/plain": [
         "<IPython.core.display.Math object>"
        ]
       },
       "metadata": {},
       "output_type": "display_data"
      },
      {
       "data": {
        "text/latex": [
         "$\\displaystyle f(x) = x^{2}, \\quad \\dot f=2 x$"
        ],
        "text/plain": [
         "<IPython.core.display.Math object>"
        ]
       },
       "metadata": {},
       "output_type": "display_data"
      }
     ],
     "source": [
      "# Leibniz notation\n",
      "display(Math('f(x) = %s, \\\\quad \\\\frac{df}{dx}=%s'%(sym.latex(fx), sym.latex(dfx))))\n",
      "\n",
      "# Lagrange notation\n",
      "display(Math(\"f(x) = %s, \\\\quad f'=%s\" %(sym.latex(fx), sym.latex(dfx))))\n",
      "\n",
      "# Newton notation\n",
      "display(Math(\"f(x) = %s, \\\\quad \\\\dot f=%s\" %(sym.latex(fx), sym.latex(dfx))))"
     ]
    },
    {
     "cell_type": "code",
     "execution_count": 8,
     "metadata": {},
     "outputs": [
      {
       "data": {
        "image/png": "[encoded data removed]",
        "text/plain": [
         "<Figure size 432x288 with 1 Axes>"
        ]
       },
       "metadata": {
        "needs_background": "light"
       },
       "output_type": "display_data"
      }
     ],
     "source": [
      "import sympy.plotting.plot as symplot\n",
      "\n",
      "fx = 3 - x**3\n",
      "\n",
      "p = symplot(fx, (x,-3,3), show=False)\n",
      "\n",
      "p.extend( symplot(sym.diff(fx), (x,-5,5), show=False))\n",
      "p[1].line_color = 'r'\n",
      "p[0].label = '$f(x) = %s$' %sym.latex(fx)\n",
      "p[0].label = '$f(x) = %s$' %sym.latex(sym.diff(fx))\n",
      "\n",
      "p.legend = True\n",
      "\n",
      "p.ylim = [-10, 10]\n",
      "p.xlim = [-3, 3]\n",
      "\n",
      "p.show()"
     ]
    },
    {
     "cell_type": "code",
     "execution_count": 9,
     "metadata": {},
     "outputs": [],
     "source": [
      "x = sym.symbols('x')\n",
      "\n",
      "f = 3 + 2*x - 5*x**2 + 7*x**4\n",
      "g = 4*x**2 + x**5\n",
      "\n",
      "df = sym.diff(f)\n",
      "dg = sym.diff(g)\n",
      "\n",
      "d_fXg = sym.diff(f*g)\n",
      "df_X_dg = sym.diff(f) * sym.diff(g)\n",
      "\n",
      "d_fPlusg = sym.diff(f+g)"
     ]
    },
    {
     "cell_type": "code",
     "execution_count": 10,
     "metadata": {},
     "outputs": [
      {
       "data": {
        "text/latex": [
         "$\\displaystyle \\text{without applying the product rule.}$"
        ],
        "text/plain": [
         "<IPython.core.display.Math object>"
        ]
       },
       "metadata": {},
       "output_type": "display_data"
      },
      {
       "data": {
        "text/latex": [
         "$\\displaystyle \\quad (f\\times g)' = 63 x^{8} - 35 x^{6} + 180 x^{5} + 15 x^{4} - 80 x^{3} + 24 x^{2} + 24 x$"
        ],
        "text/plain": [
         "<IPython.core.display.Math object>"
        ]
       },
       "metadata": {},
       "output_type": "display_data"
      },
      {
       "data": {
        "text/latex": [
         "$\\displaystyle \\quad f' \\times g' = 140 x^{7} - 50 x^{5} + 234 x^{4} - 80 x^{2} + 16 x$"
        ],
        "text/plain": [
         "<IPython.core.display.Math object>"
        ]
       },
       "metadata": {},
       "output_type": "display_data"
      }
     ],
     "source": [
      "display(Math('\\\\text{without applying the product rule.}'))\n",
      "display(Math('\\\\quad (f\\\\times g)\\' = %s' %sym.latex(sym.expand(d_fXg))))\n",
      "display(Math('\\\\quad f\\' \\\\times g\\' = %s' %sym.latex(sym.expand(df_X_dg))))"
     ]
    },
    {
     "cell_type": "code",
     "execution_count": 24,
     "metadata": {},
     "outputs": [
      {
       "data": {
        "text/latex": [
         "$\\displaystyle \\text{Applying the product rule.}$"
        ],
        "text/plain": [
         "<IPython.core.display.Math object>"
        ]
       },
       "metadata": {},
       "output_type": "display_data"
      },
      {
       "data": {
        "text/latex": [
         "$\\displaystyle \\quad (f\\times g)' = 63 x^{8} - 35 x^{6} + 180 x^{5} + 15 x^{4} - 80 x^{3} + 24 x^{2} + 24 x$"
        ],
        "text/plain": [
         "<IPython.core.display.Math object>"
        ]
       },
       "metadata": {},
       "output_type": "display_data"
      },
      {
       "data": {
        "text/latex": [
         "$\\displaystyle \\quad f' \\times  + \\quad f \\times g' = 63 x^{8} - 35 x^{6} + 180 x^{5} + 15 x^{4} - 80 x^{3} + 24 x^{2} + 24 x$"
        ],
        "text/plain": [
         "<IPython.core.display.Math object>"
        ]
       },
       "metadata": {},
       "output_type": "display_data"
      }
     ],
     "source": [
      "display(Math('\\\\text{Applying the product rule.}'))\n",
      "display(Math('\\\\quad (f\\\\times g)\\' = %s' %sym.latex(sym.expand(d_fXg))))\n",
      "display(Math('\\\\quad f\\' \\\\times  + \\\\quad f \\\\times g\\' = %s' %sym.latex(sym.expand(df * g + f * dg))))"
     ]
    },
    {
     "cell_type": "code",
     "execution_count": 25,
     "metadata": {},
     "outputs": [
      {
       "data": {
        "text/latex": [
         "$\\displaystyle (f+g)' = 5 x^{4} + 28 x^{3} - 2 x + 2$"
        ],
        "text/plain": [
         "<IPython.core.display.Math object>"
        ]
       },
       "metadata": {},
       "output_type": "display_data"
      },
      {
       "data": {
        "text/latex": [
         "$\\displaystyle f'+g' = 5 x^{4} + 28 x^{3} - 2 x + 2$"
        ],
        "text/plain": [
         "<IPython.core.display.Math object>"
        ]
       },
       "metadata": {},
       "output_type": "display_data"
      }
     ],
     "source": [
      "display(Math('(f+g)\\' = %s' %sym.latex(sym.expand(d_fPlusg))))\n",
      "display(Math('f\\'+g\\' = %s' %sym.latex(sym.expand(df + dg))))"
     ]
    },
    {
     "cell_type": "code",
     "execution_count": null,
     "metadata": {},
     "outputs": [],
     "source": []
    }
   ],
   "metadata": {
    "kernelspec": {
     "display_name": "Python 3 (ipykernel)",
     "language": "python",
     "name": "python3"
    },
    "language_info": {
     "codemirror_mode": {
      "name": "ipython",
      "version": 3
     },
     "file_extension": ".py",
     "mimetype": "text/x-python",
     "name": "python",
     "nbconvert_exporter": "python",
     "pygments_lexer": "ipython3",
     "version": "3.9.12"
    },
    "vscode": {
     "interpreter": {
      "hash": "aee8b7b246df8f9039afb4144a1f6fd8d2ca17a180786b69acc140d282b71a49"
     }
    }
   },
   "nbformat": 4,
   "nbformat_minor": 2
  }
  