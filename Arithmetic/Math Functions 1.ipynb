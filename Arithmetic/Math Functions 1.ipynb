{
 "cells": [
  {
   "cell_type": "code",
   "execution_count": 2,
   "metadata": {},
   "outputs": [],
   "source": [
    "def myfunction(name):\n",
    "    print(\"Hello %s.\" %name)\n"
   ]
  },
  {
   "cell_type": "code",
   "execution_count": 4,
   "metadata": {},
   "outputs": [
    {
     "name": "stdout",
     "output_type": "stream",
     "text": [
      "Hello Danny.\n"
     ]
    }
   ],
   "source": [
    "myfunction(\"Danny\") "
   ]
  },
  {
   "cell_type": "code",
   "execution_count": 9,
   "metadata": {},
   "outputs": [],
   "source": [
    "def computeremainder(x,y):\n",
    "    divis = int(x/y)\n",
    "    remainder = x%y\n",
    "    \n",
    "    print(\"%g goes into %g, %g times with a remainder of %g\" %(y,x, divis, remainder))"
   ]
  },
  {
   "cell_type": "code",
   "execution_count": 21,
   "metadata": {},
   "outputs": [
    {
     "name": "stdout",
     "output_type": "stream",
     "text": [
      "6 goes into 100, 16 times with a remainder of 4\n"
     ]
    }
   ],
   "source": [
    "computeremainder(100, 6)"
   ]
  },
  {
   "cell_type": "code",
   "execution_count": 24,
   "metadata": {},
   "outputs": [],
   "source": [
    "def divisioninput():\n",
    "    \n",
    "    x = float(input(\"Input the numerator: \"))\n",
    "    \n",
    "    y = float(input(\"Input the denominator: \"))\n",
    "    \n",
    "    divis = int(x/y)\n",
    "    remainder = x%y\n",
    "    \n",
    "    print(\"%g goes into %g, %g times with a remainder of %g\" %(y,x, divis, remainder))"
   ]
  },
  {
   "cell_type": "code",
   "execution_count": 25,
   "metadata": {},
   "outputs": [
    {
     "name": "stdout",
     "output_type": "stream",
     "text": [
      "Input the numerator: 4\n",
      "Input the denominator: 5\n",
      "5 goes into 4, 0 times with a remainder of 4\n"
     ]
    }
   ],
   "source": [
    "divisioninput()"
   ]
  },
  {
   "cell_type": "code",
   "execution_count": null,
   "metadata": {},
   "outputs": [],
   "source": []
  }
 ],
 "metadata": {
  "kernelspec": {
   "display_name": "Python 3",
   "language": "python",
   "name": "python3"
  },
  "language_info": {
   "codemirror_mode": {
    "name": "ipython",
    "version": 3
   },
   "file_extension": ".py",
   "mimetype": "text/x-python",
   "name": "python",
   "nbconvert_exporter": "python",
   "pygments_lexer": "ipython3",
   "version": "3.7.4"
  }
 },
 "nbformat": 4,
 "nbformat_minor": 2
}
