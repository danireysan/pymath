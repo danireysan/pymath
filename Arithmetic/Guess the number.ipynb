{
 "cells": [
  {
   "cell_type": "code",
   "execution_count": 11,
   "metadata": {},
   "outputs": [],
   "source": [
    "from numpy import random\n",
    "\n",
    "def guessTheNumber():    \n",
    "    num2guess = random.randint(1,101)\n",
    "    userguess = int(input(\"Guess a number between 1 and 100: \"))\n",
    "\n",
    "    while userguess!=num2guess:\n",
    "        if userguess<num2guess:\n",
    "            print(\"Guess higher! :3\")\n",
    "        elif userguess>num2guess:\n",
    "            print(\"Guess lower! :3\")\n",
    "        userguess = int(input(\"Guess again: \"))\n",
    "            \n",
    "    print(\"YES!! You did it!\")\n",
    "        \n"
   ]
  },
  {
   "cell_type": "code",
   "execution_count": 12,
   "metadata": {},
   "outputs": [
    {
     "name": "stdout",
     "output_type": "stream",
     "text": [
      "Guess a number between 1 and 100: 50\n",
      "Guess higher! :3\n",
      "Guess again: 60\n",
      "Guess higher! :3\n",
      "Guess again: 80\n",
      "Guess lower! :3\n",
      "Guess again: 70\n",
      "Guess lower! :3\n",
      "Guess again: 65\n",
      "Guess higher! :3\n",
      "Guess again: 66\n",
      "YES!! You did it!\n"
     ]
    }
   ],
   "source": [
    "guessTheNumber()"
   ]
  },
  {
   "cell_type": "code",
   "execution_count": null,
   "metadata": {},
   "outputs": [],
   "source": []
  }
 ],
 "metadata": {
  "kernelspec": {
   "display_name": "Python 3",
   "language": "python",
   "name": "python3"
  },
  "language_info": {
   "codemirror_mode": {
    "name": "ipython",
    "version": 3
   },
   "file_extension": ".py",
   "mimetype": "text/x-python",
   "name": "python",
   "nbconvert_exporter": "python",
   "pygments_lexer": "ipython3",
   "version": "3.8.8"
  }
 },
 "nbformat": 4,
 "nbformat_minor": 2
}
