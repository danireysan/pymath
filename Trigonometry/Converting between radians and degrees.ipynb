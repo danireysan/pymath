{
 "cells": [
  {
   "cell_type": "code",
   "execution_count": 1,
   "id": "297d1182",
   "metadata": {},
   "outputs": [],
   "source": [
    "import numpy as np\n",
    "import matplotlib.pyplot as plt "
   ]
  },
  {
   "cell_type": "code",
   "execution_count": 2,
   "id": "7cd38a00",
   "metadata": {},
   "outputs": [
    {
     "name": "stdout",
     "output_type": "stream",
     "text": [
      "720 degrees is 0 radians\n"
     ]
    }
   ],
   "source": [
    "deg = 720\n",
    "\n",
    "rad = np.deg2rad(deg)%(2*np.pi)\n",
    "\n",
    "print('%g degrees is %g radians' %(deg, rad))"
   ]
  },
  {
   "cell_type": "code",
   "execution_count": 3,
   "id": "a407fecc",
   "metadata": {},
   "outputs": [
    {
     "data": {
      "text/plain": [
       "720"
      ]
     },
     "execution_count": 3,
     "metadata": {},
     "output_type": "execute_result"
    }
   ],
   "source": [
    "rad = 4*np.pi \n",
    "\n",
    "np.rad2deg(rad)%360\n",
    "deg "
   ]
  },
  {
   "cell_type": "code",
   "execution_count": 4,
   "id": "5e0a24d4",
   "metadata": {},
   "outputs": [],
   "source": [
    "def angle_convert_plot():\n",
    "    \n",
    "    # get the inputs from the user\n",
    "    angle = eval(input('What angle to convert? '))\n",
    "    unit  = input('Which unit did you input (radians or degrees)? ')\n",
    "    \n",
    "    if unit[0].lower()=='r':\n",
    "        rad = angle\n",
    "        deg = np.rad2deg(angle)\n",
    "    elif unit[0].lower()=='d':\n",
    "        deg = angle\n",
    "        rad = np.deg2rad(angle)\n",
    "    else:\n",
    "        raise ValueError('Unknown unit!')\n",
    "        \n",
    "    # convert to < 360\n",
    "    deg = deg%360\n",
    "    rad = rad%(2*np.pi)\n",
    "      \n",
    "    \n",
    "    # make the graph\n",
    "    plt.plot([0,1], [0,0], 'r', linewidth=2)\n",
    "    plt.plot([0, np.cos(rad)], [0,np.sin(rad)], 'r', linewidth=3)\n",
    "    plt.axis('square')\n",
    "    plt.axis([-1,1, -1,1])\n",
    "    plt.grid()\n",
    "    plt.title('Angle is %s$^o$ or %s rad' %(deg, rad))\n",
    "    plt.show()"
   ]
  },
  {
   "cell_type": "code",
   "execution_count": 7,
   "id": "20a2c562",
   "metadata": {
    "scrolled": false
   },
   "outputs": [
    {
     "name": "stdout",
     "output_type": "stream",
     "text": [
      "What angle to convert? 45\n",
      "Which unit did you input (radians or degrees)? deg\n"
     ]
    },
    {
     "data": {
      "image/png": "[encoded data removed]",
      "text/plain": [
       "<Figure size 432x288 with 1 Axes>"
      ]
     },
     "metadata": {
      "needs_background": "light"
     },
     "output_type": "display_data"
    }
   ],
   "source": [
    "angle_convert_plot()"
   ]
  },
  {
   "cell_type": "code",
   "execution_count": null,
   "id": "0f70a678",
   "metadata": {},
   "outputs": [],
   "source": []
  },
  {
   "cell_type": "code",
   "execution_count": null,
   "id": "cb4ada65",
   "metadata": {},
   "outputs": [],
   "source": []
  }
 ],
 "metadata": {
  "kernelspec": {
   "display_name": "Python 3",
   "language": "python",
   "name": "python3"
  },
  "language_info": {
   "codemirror_mode": {
    "name": "ipython",
    "version": 3
   },
   "file_extension": ".py",
   "mimetype": "text/x-python",
   "name": "python",
   "nbconvert_exporter": "python",
   "pygments_lexer": "ipython3",
   "version": "3.8.8"
  }
 },
 "nbformat": 4,
 "nbformat_minor": 5
}
