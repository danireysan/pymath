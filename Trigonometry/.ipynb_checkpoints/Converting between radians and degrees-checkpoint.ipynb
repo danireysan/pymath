{
 "cells": [
  {
   "cell_type": "code",
   "execution_count": 1,
   "id": "297d1182",
   "metadata": {},
   "outputs": [],
   "source": [
    "import numpy as np\n",
    "import matplotlib.pyplot as plt "
   ]
  },
  {
   "cell_type": "code",
   "execution_count": 13,
   "id": "7cd38a00",
   "metadata": {},
   "outputs": [
    {
     "name": "stdout",
     "output_type": "stream",
     "text": [
      "720 degrees is 0 radians\n"
     ]
    }
   ],
   "source": [
    "deg = 720\n",
    "\n",
    "rad = np.deg2rad(deg)%(2*np.pi)\n",
    "\n",
    "print('%g degrees is %g radians' %(deg, rad))"
   ]
  },
  {
   "cell_type": "code",
   "execution_count": 14,
   "id": "a407fecc",
   "metadata": {},
   "outputs": [
    {
     "data": {
      "text/plain": [
       "720"
      ]
     },
     "execution_count": 14,
     "metadata": {},
     "output_type": "execute_result"
    }
   ],
   "source": [
    "rad = 4*np.pi \n",
    "\n",
    "np.rad2deg(rad)%360\n",
    "deg "
   ]
  },
  {
   "cell_type": "code",
   "execution_count": 11,
   "id": "5e0a24d4",
   "metadata": {},
   "outputs": [],
   "source": []
  },
  {
   "cell_type": "code",
   "execution_count": null,
   "id": "0f70a678",
   "metadata": {},
   "outputs": [],
   "source": []
  }
 ],
 "metadata": {
  "kernelspec": {
   "display_name": "Python 3",
   "language": "python",
   "name": "python3"
  },
  "language_info": {
   "codemirror_mode": {
    "name": "ipython",
    "version": 3
   },
   "file_extension": ".py",
   "mimetype": "text/x-python",
   "name": "python",
   "nbconvert_exporter": "python",
   "pygments_lexer": "ipython3",
   "version": "3.8.8"
  }
 },
 "nbformat": 4,
 "nbformat_minor": 5
}
