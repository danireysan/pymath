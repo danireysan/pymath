{
 "cells": [
  {
   "cell_type": "code",
   "execution_count": 1,
   "id": "abea8c65",
   "metadata": {},
   "outputs": [],
   "source": [
    "import numpy as np\n",
    "import matplotlib.pyplot as plt\n"
   ]
  },
  {
   "cell_type": "code",
   "execution_count": 22,
   "id": "38c54a58",
   "metadata": {},
   "outputs": [
    {
     "data": {
      "image/png": "[encoded data removed]",
      "text/plain": [
       "<Figure size 432x288 with 1 Axes>"
      ]
     },
     "metadata": {
      "needs_background": "light"
     },
     "output_type": "display_data"
    }
   ],
   "source": [
    "a = 8\n",
    "b = 3\n",
    "c = np.sqrt(a**2 + b**2)\n",
    "\n",
    "# draw the triangle\n",
    "plt.plot([0,a], [0,0], 'k', linewidth = 2)\n",
    "plt.plot([0,0], [0,b], 'k')\n",
    "plt.plot([0,a], [b,0], 'k')\n",
    "\n",
    "plt.plot([.3,.3], [0,.3], 'k', linewidth=1)\n",
    "plt.plot([0,.3],[.3,.3],  'k')\n",
    "\n",
    "plt.text(a/3, -.5, 'a=' + str(a), fontsize = 15)\n",
    "plt.text(.1, b/3, 'b=' + str(b), fontsize = 15)\n",
    "plt.text(a/2, b/2 + .1, 'c=' + str(c), fontsize = 15)\n",
    "\n",
    "plt.axis('square')\n",
    "axlim = np.max((a,b)) + .5\n",
    "plt.axis([-.5,axlim, -.5,axlim])\n",
    "plt.axis('off')\n",
    "plt.show()\n"
   ]
  },
  {
   "cell_type": "code",
   "execution_count": 27,
   "id": "2848d976",
   "metadata": {},
   "outputs": [
    {
     "name": "stdout",
     "output_type": "stream",
     "text": [
      "5.0 5.0\n"
     ]
    }
   ],
   "source": [
    "z = complex(3,4)\n",
    "\n",
    "mag1 = np.sqrt( np.real(z)**2 + np.imag(z)**2 )\n",
    "mag2 = np.abs(z)\n",
    "\n",
    "print(mag1, mag2)"
   ]
  },
  {
   "cell_type": "code",
   "execution_count": 29,
   "id": "7bc8e331",
   "metadata": {},
   "outputs": [
    {
     "name": "stdout",
     "output_type": "stream",
     "text": [
      "0.9272952180016122 0.9272952180016122\n"
     ]
    }
   ],
   "source": [
    "ang1 = np.arctan2(np.imag(z), np.real(z))\n",
    "ang2 = np.angle(z)\n",
    "\n",
    "print(ang1, ang2)"
   ]
  },
  {
   "cell_type": "code",
   "execution_count": null,
   "id": "4dd3626d",
   "metadata": {},
   "outputs": [],
   "source": []
  }
 ],
 "metadata": {
  "kernelspec": {
   "display_name": "Python 3",
   "language": "python",
   "name": "python3"
  },
  "language_info": {
   "codemirror_mode": {
    "name": "ipython",
    "version": 3
   },
   "file_extension": ".py",
   "mimetype": "text/x-python",
   "name": "python",
   "nbconvert_exporter": "python",
   "pygments_lexer": "ipython3",
   "version": "3.8.8"
  }
 },
 "nbformat": 4,
 "nbformat_minor": 5
}
