{
 "cells": [
  {
   "cell_type": "code",
   "execution_count": 1,
   "id": "59281145",
   "metadata": {},
   "outputs": [],
   "source": [
    "import numpy as np\n",
    "import matplotlib.pyplot as plt"
   ]
  },
  {
   "cell_type": "code",
   "execution_count": 25,
   "id": "f5b4c454",
   "metadata": {},
   "outputs": [
    {
     "data": {
      "image/png": "[encoded data removed]",
      "text/plain": [
       "<Figure size 432x288 with 1 Axes>"
      ]
     },
     "metadata": {
      "needs_background": "light"
     },
     "output_type": "display_data"
    }
   ],
   "source": [
    "M = np.array([ [.5,1], [1,.5]] )\n",
    "\n",
    "v = np.array([1,2])\n",
    "v = np.random.rand(2)\n",
    "\n",
    "Mv = M@v\n",
    "\n",
    "plt.plot([0,v[0]],[0,v[1]], 'b', linewidth=2 , label='v' )\n",
    "plt.plot([0,Mv[0]],[0,Mv[1]], 'r--', linewidth=2 , label='Mv' )\n",
    "plt.axis([-5,5,-5,5])\n",
    "plt.grid()\n",
    "plt.legend()\n",
    "plt.show()\n",
    "\n",
    "\n",
    "# The product of a matrix and vector is the vector changing in it's size and direction"
   ]
  },
  {
   "cell_type": "code",
   "execution_count": null,
   "id": "59610cad",
   "metadata": {},
   "outputs": [],
   "source": []
  },
  {
   "cell_type": "code",
   "execution_count": null,
   "id": "1d6d5661",
   "metadata": {},
   "outputs": [],
   "source": []
  }
 ],
 "metadata": {
  "kernelspec": {
   "display_name": "Python 3 (ipykernel)",
   "language": "python",
   "name": "python3"
  },
  "language_info": {
   "codemirror_mode": {
    "name": "ipython",
    "version": 3
   },
   "file_extension": ".py",
   "mimetype": "text/x-python",
   "name": "python",
   "nbconvert_exporter": "python",
   "pygments_lexer": "ipython3",
   "version": "3.9.12"
  }
 },
 "nbformat": 4,
 "nbformat_minor": 5
}
