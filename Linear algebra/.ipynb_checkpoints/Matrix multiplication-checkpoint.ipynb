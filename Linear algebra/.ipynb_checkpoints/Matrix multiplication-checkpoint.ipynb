{
 "cells": [
  {
   "cell_type": "code",
   "execution_count": 1,
   "id": "4fbdada8",
   "metadata": {},
   "outputs": [],
   "source": [
    "import numpy as np"
   ]
  },
  {
   "cell_type": "code",
   "execution_count": 71,
   "id": "cb86a3dd",
   "metadata": {},
   "outputs": [
    {
     "name": "stdout",
     "output_type": "stream",
     "text": [
      "[[0.76337052 0.12251018 0.54531505 0.13351444 0.9548923  0.77682164\n",
      "  0.48654852]\n",
      " [0.56087352 0.13838638 0.81326267 0.54839008 0.04161556 0.87579948\n",
      "  0.49301895]\n",
      " [0.12035719 0.94463901 0.09720691 0.57937653 0.70629245 0.10543022\n",
      "  0.91512934]\n",
      " [0.85470622 0.66511959 0.33851285 0.89339663 0.97057701 0.70431405\n",
      "  0.22496823]\n",
      " [0.05790022 0.76208682 0.16523663 0.29097604 0.56371221 0.29883303\n",
      "  0.53120114]]\n",
      "[[0.08720389 0.28917659 0.27073757 0.98148467 0.54157359]\n",
      " [0.70212227 0.02990892 0.63422968 0.15214545 0.7928504 ]\n",
      " [0.47571059 0.24188137 0.57086219 0.38128426 0.02734961]\n",
      " [0.55825889 0.06785622 0.49408284 0.53580431 0.50753266]\n",
      " [0.48560995 0.88010109 0.93222971 0.94887837 0.33510049]\n",
      " [0.86385828 0.87504574 0.58792087 0.43372219 0.09979994]\n",
      " [0.81867668 0.3593747  0.95409353 0.02578588 0.04228373]]\n"
     ]
    }
   ],
   "source": [
    "# 7 x 5 \n",
    "A = np.random.rand(7,5)\n",
    "# 14 X 10\n",
    "B = np.random.rand(14,10)\n",
    "# 5 x 7\n",
    "C = np.random.rand(5,7)\n",
    "\n",
    "# Valid matrix multiplications\n",
    "# A X C (14X10 * 10 X  14)\n",
    "# C X B (10X14 * 14X10)\n",
    "\n",
    "np.shape(C@A)\n",
    "print(C)\n",
    "print(A)"
   ]
  },
  {
   "cell_type": "code",
   "execution_count": 132,
   "id": "08aeb95a",
   "metadata": {},
   "outputs": [],
   "source": [
    "def matrix_mult(A,B):\n",
    "    \n",
    "    # get the matrix sizes\n",
    "    szA = np.shape(A)\n",
    "    szB = np.shape(B)\n",
    "     # Initialize\n",
    "    C = np.zeros((szA[1], szB[0]))\n",
    "    # check sizes and give error if multiplication is not valid\n",
    "    if szA[1] == szB[0]:\n",
    "        # loop over the rows \n",
    "        for i in range(szA[0]):\n",
    "            for j in range(szB[1]):\n",
    "                C[i,j] = np.dot(A[i,:], B[:,j])\n",
    "                \n",
    "        return C\n",
    "            \n",
    "    else:\n",
    "        raise ValueError('\"Inner\" dimensions don\\'t match') "
   ]
  },
  {
   "cell_type": "code",
   "execution_count": 133,
   "id": "10d46473",
   "metadata": {},
   "outputs": [
    {
     "ename": "IndexError",
     "evalue": "index 4 is out of bounds for axis 1 with size 4",
     "output_type": "error",
     "traceback": [
      "\u001b[1;31m---------------------------------------------------------------------------\u001b[0m",
      "\u001b[1;31mIndexError\u001b[0m                                Traceback (most recent call last)",
      "Input \u001b[1;32mIn [133]\u001b[0m, in \u001b[0;36m<cell line: 3>\u001b[1;34m()\u001b[0m\n\u001b[0;32m      1\u001b[0m A \u001b[38;5;241m=\u001b[39m np\u001b[38;5;241m.\u001b[39mrandom\u001b[38;5;241m.\u001b[39mrand(\u001b[38;5;241m4\u001b[39m,\u001b[38;5;241m6\u001b[39m)\n\u001b[0;32m      2\u001b[0m B \u001b[38;5;241m=\u001b[39m np\u001b[38;5;241m.\u001b[39mrandom\u001b[38;5;241m.\u001b[39mrand(\u001b[38;5;241m6\u001b[39m,\u001b[38;5;241m4\u001b[39m)\n\u001b[1;32m----> 3\u001b[0m C \u001b[38;5;241m=\u001b[39m\u001b[43mmatrix_mult\u001b[49m\u001b[43m(\u001b[49m\u001b[43mB\u001b[49m\u001b[43m,\u001b[49m\u001b[43mA\u001b[49m\u001b[43m)\u001b[49m\n\u001b[0;32m      4\u001b[0m C\n",
      "Input \u001b[1;32mIn [132]\u001b[0m, in \u001b[0;36mmatrix_mult\u001b[1;34m(A, B)\u001b[0m\n\u001b[0;32m     11\u001b[0m     \u001b[38;5;28;01mfor\u001b[39;00m i \u001b[38;5;129;01min\u001b[39;00m \u001b[38;5;28mrange\u001b[39m(szA[\u001b[38;5;241m0\u001b[39m]):\n\u001b[0;32m     12\u001b[0m         \u001b[38;5;28;01mfor\u001b[39;00m j \u001b[38;5;129;01min\u001b[39;00m \u001b[38;5;28mrange\u001b[39m(szB[\u001b[38;5;241m1\u001b[39m]):\n\u001b[1;32m---> 13\u001b[0m             C[i,j] \u001b[38;5;241m=\u001b[39m np\u001b[38;5;241m.\u001b[39mdot(A[i,:], B[:,j])\n\u001b[0;32m     15\u001b[0m     \u001b[38;5;28;01mreturn\u001b[39;00m C\n\u001b[0;32m     17\u001b[0m \u001b[38;5;28;01melse\u001b[39;00m:\n",
      "\u001b[1;31mIndexError\u001b[0m: index 4 is out of bounds for axis 1 with size 4"
     ]
    }
   ],
   "source": [
    "\n",
    "A = np.random.rand(4,6)\n",
    "B = np.random.rand(6,4)\n",
    "C = matrix_mult(B,A)\n",
    "C"
   ]
  },
  {
   "cell_type": "code",
   "execution_count": 127,
   "id": "d37dea1b",
   "metadata": {},
   "outputs": [
    {
     "data": {
      "text/plain": [
       "array([[1.66579093, 1.17891114, 0.69341541, 0.74996351, 1.37607938,\n",
       "        1.4849749 ],\n",
       "       [1.18805122, 1.2548775 , 0.56050371, 1.19712798, 1.74887382,\n",
       "        1.7540055 ],\n",
       "       [0.36592724, 0.20970498, 0.09803418, 0.30611807, 0.34397718,\n",
       "        0.40076351],\n",
       "       [1.30607218, 0.95515847, 0.5662032 , 0.95137127, 1.52231292,\n",
       "        1.81465442],\n",
       "       [1.7914833 , 1.66628562, 0.64713551, 1.4623261 , 1.85893134,\n",
       "        1.57300787],\n",
       "       [1.25252745, 0.8641841 , 0.59497988, 0.43720662, 1.0741412 ,\n",
       "        1.27268226]])"
      ]
     },
     "execution_count": 127,
     "metadata": {},
     "output_type": "execute_result"
    }
   ],
   "source": [
    "B@A"
   ]
  },
  {
   "cell_type": "code",
   "execution_count": null,
   "id": "b37529ac",
   "metadata": {},
   "outputs": [],
   "source": []
  },
  {
   "cell_type": "code",
   "execution_count": null,
   "id": "4f579dda",
   "metadata": {},
   "outputs": [],
   "source": []
  }
 ],
 "metadata": {
  "kernelspec": {
   "display_name": "Python 3 (ipykernel)",
   "language": "python",
   "name": "python3"
  },
  "language_info": {
   "codemirror_mode": {
    "name": "ipython",
    "version": 3
   },
   "file_extension": ".py",
   "mimetype": "text/x-python",
   "name": "python",
   "nbconvert_exporter": "python",
   "pygments_lexer": "ipython3",
   "version": "3.9.12"
  }
 },
 "nbformat": 4,
 "nbformat_minor": 5
}
