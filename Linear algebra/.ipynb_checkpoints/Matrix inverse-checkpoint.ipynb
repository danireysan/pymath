{
 "cells": [
  {
   "cell_type": "code",
   "execution_count": 16,
   "id": "cee65f51",
   "metadata": {},
   "outputs": [],
   "source": [
    "import numpy as np\n",
    "import matplotlib.pyplot as plt"
   ]
  },
  {
   "cell_type": "code",
   "execution_count": 19,
   "id": "0a776038",
   "metadata": {},
   "outputs": [
    {
     "name": "stdout",
     "output_type": "stream",
     "text": [
      "[[-4 -4  0 -1  3]\n",
      " [-3 -3  0 -1  3]\n",
      " [-1 -1  1 -3 -4]\n",
      " [-5 -5 -1  2 -5]\n",
      " [ 3  3 -3 -5 -3]]\n",
      "[[ 3.28197544e+15 -3.82167806e+15 -1.02105902e+14 -2.77144592e+14\n",
      "   5.83462300e+13]\n",
      " [-3.28197544e+15  3.82167806e+15  1.02105902e+14  2.77144592e+14\n",
      "  -5.83462300e+13]\n",
      " [ 2.42914980e-01 -3.49527665e-01  2.59109312e-01 -1.53846154e-01\n",
      "  -1.95681511e-01]\n",
      " [-1.21457490e-01  8.09716599e-03 -1.29554656e-01  7.69230769e-02\n",
      "  -6.88259109e-02]\n",
      " [ 1.74089069e-01 -7.82726046e-02 -8.09716599e-02 -7.69230769e-02\n",
      "  -1.34952767e-03]]\n"
     ]
    }
   ],
   "source": [
    "m = 5\n",
    "\n",
    "A = np.random.randint(-5,6,(m,m))\n",
    "# If we make the first column to be equal to the second one, we invalidate the second condition for a matrix to inversible\n",
    "# and that is that it is full rank: that every one of its columns is independent and that means that if you multiply anything\n",
    "# from another column it would not give you as a result the product of multiplying the column\n",
    "#A[:,0] = A[:,1]\n",
    "\n",
    "Ainv = np.linalg.inv(A)\n",
    "\n",
    "print(A)\n",
    "print(Ainv)"
   ]
  },
  {
   "cell_type": "code",
   "execution_count": 20,
   "id": "0675cc86",
   "metadata": {},
   "outputs": [
    {
     "data": {
      "text/plain": [
       "Text(0.5, 1.0, 'AA$^{-1}$')"
      ]
     },
     "execution_count": 20,
     "metadata": {},
     "output_type": "execute_result"
    },
    {
     "data": {
      "image/png": "[encoded data removed]",
      "text/plain": [
       "<Figure size 432x288 with 3 Axes>"
      ]
     },
     "metadata": {
      "needs_background": "light"
     },
     "output_type": "display_data"
    }
   ],
   "source": [
    "fix,ax = plt.subplots(1,3)\n",
    "\n",
    "ax[0].imshow(A)\n",
    "ax[0].set_title(\"A\")\n",
    "\n",
    "ax[1].imshow(Ainv)\n",
    "ax[1].set_title(\"A%^{-1}%\")\n",
    "\n",
    "ax[2].imshow(A@Ainv)\n",
    "ax[2].set_title(\"AA$^{-1}$\")"
   ]
  },
  {
   "cell_type": "code",
   "execution_count": 45,
   "id": "c26ae97e",
   "metadata": {},
   "outputs": [
    {
     "data": {
      "text/plain": [
       "Text(0.5, 1.0, 'AA$^*$')"
      ]
     },
     "execution_count": 45,
     "metadata": {},
     "output_type": "execute_result"
    },
    {
     "data": {
      "image/png": "[encoded data removed]",
      "text/plain": [
       "<Figure size 432x288 with 3 Axes>"
      ]
     },
     "metadata": {
      "needs_background": "light"
     },
     "output_type": "display_data"
    }
   ],
   "source": [
    "# Exercise 1\n",
    "\n",
    "mat = np.random.randint(-5,6,(5,5))\n",
    "# If we make the first column to be equal to the second one, we invalidate the second condition for a matrix to inversible\n",
    "# and that is that it is full rank: that every one of its columns is independent and that means that if you multiply anything\n",
    "# from another column it would not give you as a result the product of multiplying the column\n",
    "mat[:,0] = mat[:,1]\n",
    "\n",
    "pseudoinverse = np.linalg.pinv(mat)\n",
    "\n",
    "print(mat)\n",
    "print(pseudoinverse)\n",
    "\n",
    "fig,ax = plt.subplots(1,3)\n",
    "\n",
    "ax[0].imshow(mat)\n",
    "ax[0].set_title(\"A\")\n",
    "\n",
    "ax[1].imshow(pseudoinverse)\n",
    "ax[1].set_title(\"A$^*$\")\n",
    "\n",
    "ax[2].imshow(mat@pseudoinverse)\n",
    "ax[2].set_title(\"AA$^*$\")\n"
   ]
  },
  {
   "cell_type": "code",
   "execution_count": 56,
   "id": "517632d3",
   "metadata": {},
   "outputs": [
    {
     "data": {
      "text/plain": [
       "Text(0.5, 1.0, 'AA$^*$')"
      ]
     },
     "execution_count": 56,
     "metadata": {},
     "output_type": "execute_result"
    },
    {
     "data": {
      "image/png": "[encoded data removed]",
      "text/plain": [
       "<Figure size 432x288 with 3 Axes>"
      ]
     },
     "metadata": {
      "needs_background": "light"
     },
     "output_type": "display_data"
    }
   ],
   "source": [
    "# Exercise 2 \n",
    "\n",
    "gaussianMatrix = np.random.normal(size=(5,7))\n",
    "\n",
    "pseudoinverse = np.linalg.pinv(gaussianMatrix)\n",
    "\n",
    "fig,ax = plt.subplots(1,3)\n",
    "\n",
    "ax[0].imshow(gaussianMatrix)\n",
    "ax[0].set_title(\"A\")\n",
    "\n",
    "ax[1].imshow(pseudoinverse)\n",
    "ax[1].set_title(\"A$^*$\")\n",
    "\n",
    "ax[2].imshow(gaussianMatrix@pseudoinverse)\n",
    "ax[2].set_title(\"AA$^*$\")"
   ]
  },
  {
   "cell_type": "code",
   "execution_count": null,
   "id": "acad0ca3",
   "metadata": {},
   "outputs": [],
   "source": []
  }
 ],
 "metadata": {
  "kernelspec": {
   "display_name": "Python 3 (ipykernel)",
   "language": "python",
   "name": "python3"
  },
  "language_info": {
   "codemirror_mode": {
    "name": "ipython",
    "version": 3
   },
   "file_extension": ".py",
   "mimetype": "text/x-python",
   "name": "python",
   "nbconvert_exporter": "python",
   "pygments_lexer": "ipython3",
   "version": "3.9.12"
  }
 },
 "nbformat": 4,
 "nbformat_minor": 5
}
