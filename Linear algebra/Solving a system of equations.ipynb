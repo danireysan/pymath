{
 "cells": [
  {
   "cell_type": "code",
   "execution_count": 2,
   "id": "ac07e277",
   "metadata": {},
   "outputs": [],
   "source": [
    "import numpy as np\n",
    "import matplotlib.pyplot as plt"
   ]
  },
  {
   "cell_type": "code",
   "execution_count": 3,
   "id": "ee6c2ecf",
   "metadata": {},
   "outputs": [
    {
     "name": "stdout",
     "output_type": "stream",
     "text": [
      "[1.46153846 0.79487179 2.71794872]\n",
      "[1.46153846 0.79487179 2.71794872]\n"
     ]
    }
   ],
   "source": [
    "X = np.array([ [2,1,-1], [3,4,2], [1,5,-2]])\n",
    "y = np.array([1,13,0])\n",
    "\n",
    "beta1 = np.linalg.inv(X.T@X) @ (X.T@y)\n",
    "beta2 = np.linalg.solve(X,y)\n",
    "print(beta1)\n",
    "print(beta2)\n",
    "\n"
   ]
  },
  {
   "cell_type": "code",
   "execution_count": 15,
   "id": "1781acdf",
   "metadata": {},
   "outputs": [
    {
     "ename": "LinAlgError",
     "evalue": "Singular matrix",
     "output_type": "error",
     "traceback": [
      "\u001b[1;31m---------------------------------------------------------------------------\u001b[0m",
      "\u001b[1;31mLinAlgError\u001b[0m                               Traceback (most recent call last)",
      "Input \u001b[1;32mIn [15]\u001b[0m, in \u001b[0;36m<cell line: 18>\u001b[1;34m()\u001b[0m\n\u001b[0;32m     14\u001b[0m beta1 \u001b[38;5;241m=\u001b[39m np\u001b[38;5;241m.\u001b[39mlinalg\u001b[38;5;241m.\u001b[39msolve(X1, y1)\n\u001b[0;32m     15\u001b[0m \u001b[38;5;66;03m#beta2 = np.linalg.solve(X2, y2)\u001b[39;00m\n\u001b[0;32m     16\u001b[0m \u001b[38;5;66;03m# The solve functions gives error because the lines intersect all over which means that the solution is all over the place \u001b[39;00m\n\u001b[0;32m     17\u001b[0m \u001b[38;5;66;03m# which makes it a degenerate system of equations\u001b[39;00m\n\u001b[1;32m---> 18\u001b[0m beta3 \u001b[38;5;241m=\u001b[39m \u001b[43mnp\u001b[49m\u001b[38;5;241;43m.\u001b[39;49m\u001b[43mlinalg\u001b[49m\u001b[38;5;241;43m.\u001b[39;49m\u001b[43msolve\u001b[49m\u001b[43m(\u001b[49m\u001b[43mX3\u001b[49m\u001b[43m,\u001b[49m\u001b[43m \u001b[49m\u001b[43my3\u001b[49m\u001b[43m)\u001b[49m\n\u001b[0;32m     20\u001b[0m \u001b[38;5;66;03m# 3) Draw lines for each equation\u001b[39;00m\n\u001b[0;32m     22\u001b[0m xlim \u001b[38;5;241m=\u001b[39m np\u001b[38;5;241m.\u001b[39marray([\u001b[38;5;241m0\u001b[39m,\u001b[38;5;241m10\u001b[39m])\n",
      "File \u001b[1;32m<__array_function__ internals>:5\u001b[0m, in \u001b[0;36msolve\u001b[1;34m(*args, **kwargs)\u001b[0m\n",
      "File \u001b[1;32m~\\anaconda3\\lib\\site-packages\\numpy\\linalg\\linalg.py:393\u001b[0m, in \u001b[0;36msolve\u001b[1;34m(a, b)\u001b[0m\n\u001b[0;32m    391\u001b[0m signature \u001b[38;5;241m=\u001b[39m \u001b[38;5;124m'\u001b[39m\u001b[38;5;124mDD->D\u001b[39m\u001b[38;5;124m'\u001b[39m \u001b[38;5;28;01mif\u001b[39;00m isComplexType(t) \u001b[38;5;28;01melse\u001b[39;00m \u001b[38;5;124m'\u001b[39m\u001b[38;5;124mdd->d\u001b[39m\u001b[38;5;124m'\u001b[39m\n\u001b[0;32m    392\u001b[0m extobj \u001b[38;5;241m=\u001b[39m get_linalg_error_extobj(_raise_linalgerror_singular)\n\u001b[1;32m--> 393\u001b[0m r \u001b[38;5;241m=\u001b[39m \u001b[43mgufunc\u001b[49m\u001b[43m(\u001b[49m\u001b[43ma\u001b[49m\u001b[43m,\u001b[49m\u001b[43m \u001b[49m\u001b[43mb\u001b[49m\u001b[43m,\u001b[49m\u001b[43m \u001b[49m\u001b[43msignature\u001b[49m\u001b[38;5;241;43m=\u001b[39;49m\u001b[43msignature\u001b[49m\u001b[43m,\u001b[49m\u001b[43m \u001b[49m\u001b[43mextobj\u001b[49m\u001b[38;5;241;43m=\u001b[39;49m\u001b[43mextobj\u001b[49m\u001b[43m)\u001b[49m\n\u001b[0;32m    395\u001b[0m \u001b[38;5;28;01mreturn\u001b[39;00m wrap(r\u001b[38;5;241m.\u001b[39mastype(result_t, copy\u001b[38;5;241m=\u001b[39m\u001b[38;5;28;01mFalse\u001b[39;00m))\n",
      "File \u001b[1;32m~\\anaconda3\\lib\\site-packages\\numpy\\linalg\\linalg.py:88\u001b[0m, in \u001b[0;36m_raise_linalgerror_singular\u001b[1;34m(err, flag)\u001b[0m\n\u001b[0;32m     87\u001b[0m \u001b[38;5;28;01mdef\u001b[39;00m \u001b[38;5;21m_raise_linalgerror_singular\u001b[39m(err, flag):\n\u001b[1;32m---> 88\u001b[0m     \u001b[38;5;28;01mraise\u001b[39;00m LinAlgError(\u001b[38;5;124m\"\u001b[39m\u001b[38;5;124mSingular matrix\u001b[39m\u001b[38;5;124m\"\u001b[39m)\n",
      "\u001b[1;31mLinAlgError\u001b[0m: Singular matrix"
     ]
    }
   ],
   "source": [
    "# Exercise 1\n",
    "\n",
    "# 1) implement these systems of equations as matrix-vector equations\n",
    "X1 = np.array([[3,-1], [-1,1]])\n",
    "y1   = np.array( [6,2])\n",
    "\n",
    "X2 = np.array([ [3,-1], [1.5,-.5] ])\n",
    "y2   = np.array([6,3]) \n",
    "\n",
    "X3 = np.array([ [3,-1], [1.5,-.5]])\n",
    "y3   = np.array([6,2])\n",
    "\n",
    "# 2) Solve for x and y\n",
    "beta1 = np.linalg.solve(X1, y1)\n",
    "#beta2 = np.linalg.solve(X2, y2)\n",
    "# The solve functions gives error because the lines intersect all over which means that the solution is all over the place \n",
    "# which makes it a degenerate system of equations\n",
    "#beta3 = np.linalg.solve(X3, y3)\n",
    "# This one doesn't ha\n",
    "\n",
    "# 3) Draw lines for each equation\n",
    "\n",
    "xlim = np.array([0,10])\n",
    "\n",
    "# Task 1: Convert to y=mx+b format\n",
    "# This was my previous mistake like the X at the end just lacked the number 1 \n",
    "# and you got me there 30 minutes being like huh, the math ain't mathing something is not right\n",
    "#yy1 = -X1[0,0]/X1[0,1]*xlim + y1[0]/X[0,1]\n",
    "yy1 = -X1[0,0]/X1[0,1]*xlim + y1[0]/X1[0,1]\n",
    "yy2 = -X1[1,0]/X1[1,1]*xlim + y1[1]/X1[1,1]\n",
    "\n",
    "# -3/ -1 * [0,10] + 6/-1 = [-6, 24]\n",
    "\n",
    "# 1/1 * [0,10] + 2/1 = [2, 12]\n",
    "# Task 2: Plot\n",
    "\n",
    "plt.plot(xlim,yy1, 'b', label=\"eq1\" )\n",
    "plt.plot(xlim,yy2, 'r', label=\"eq1\" )\n",
    "\n",
    "# Task 3: Show the soluction of the system of equations\n",
    "plt.plot(beta1[0],beta1[1], 'ko', markersize=10, label=\"Solution\")\n",
    "\n",
    "\n",
    "plt.legend()\n",
    "plt.grid()\n",
    "plt.show()"
   ]
  },
  {
   "cell_type": "code",
   "execution_count": 13,
   "id": "ea72dcb0",
   "metadata": {},
   "outputs": [
    {
     "data": {
      "image/png": "[encoded data removed]",
      "text/plain": [
       "<Figure size 432x288 with 1 Axes>"
      ]
     },
     "metadata": {
      "needs_background": "light"
     },
     "output_type": "display_data"
    }
   ],
   "source": [
    "# Task 1: Convert to y=mx+b format\n",
    "yy1 = -X2[0,0]/X2[0,1]*xlim + y2[0]/X2[0,1]\n",
    "yy2 = -X2[1,0]/X2[1,1]*xlim + y2[1]/X2[1,1]\n",
    "\n",
    "plt.plot(xlim,yy1, 'b', label=\"eq1\" )\n",
    "plt.plot(xlim,yy2, 'r--', label=\"eq1\" )\n",
    "\n",
    "\n",
    "plt.legend()\n",
    "plt.grid()\n",
    "plt.show()"
   ]
  },
  {
   "cell_type": "code",
   "execution_count": null,
   "id": "23354a40",
   "metadata": {},
   "outputs": [],
   "source": []
  },
  {
   "cell_type": "code",
   "execution_count": null,
   "id": "6241a0ef",
   "metadata": {},
   "outputs": [],
   "source": []
  }
 ],
 "metadata": {
  "kernelspec": {
   "display_name": "Python 3 (ipykernel)",
   "language": "python",
   "name": "python3"
  },
  "language_info": {
   "codemirror_mode": {
    "name": "ipython",
    "version": 3
   },
   "file_extension": ".py",
   "mimetype": "text/x-python",
   "name": "python",
   "nbconvert_exporter": "python",
   "pygments_lexer": "ipython3",
   "version": "3.9.12"
  }
 },
 "nbformat": 4,
 "nbformat_minor": 5
}
