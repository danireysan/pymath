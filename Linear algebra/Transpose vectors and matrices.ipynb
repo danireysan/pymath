{
 "cells": [
  {
   "cell_type": "code",
   "execution_count": 9,
   "id": "5b24e47a",
   "metadata": {},
   "outputs": [],
   "source": [
    "import numpy as np\n",
    "import matplotlib.pyplot as plt"
   ]
  },
  {
   "cell_type": "code",
   "execution_count": 10,
   "id": "3756137e",
   "metadata": {},
   "outputs": [
    {
     "name": "stdout",
     "output_type": "stream",
     "text": [
      "(1, 10)\n",
      "(10, 1)\n",
      "(10, 1)\n"
     ]
    }
   ],
   "source": [
    "r = np.random.rand(1,10)\n",
    "rt1 = np.transpose(r)\n",
    "rt2 = r.T\n",
    "\n",
    "print(np.shape(r))\n",
    "print(np.shape(rt1))\n",
    "print(np.shape(rt2))"
   ]
  },
  {
   "cell_type": "code",
   "execution_count": 19,
   "id": "bc126db5",
   "metadata": {},
   "outputs": [
    {
     "data": {
      "image/png": "[encoded data removed]",
      "text/plain": [
       "<Figure size 432x288 with 2 Axes>"
      ]
     },
     "metadata": {},
     "output_type": "display_data"
    }
   ],
   "source": [
    "mat = np.random.rand(8,4)\n",
    "\n",
    "matT = mat.T\n",
    "\n",
    "fig,ax = plt.subplots(1,2)\n",
    "\n",
    "ax[0].imshow(mat)\n",
    "ax[0].set_title(\"M\")\n",
    "\n",
    "ax[1].imshow(matT)\n",
    "ax[1].set_title(\"M$^T$\")\n",
    "\n",
    "for i in ax:\n",
    "    i.set_yticks([])\n",
    "    i.set_xticks([])\n"
   ]
  },
  {
   "cell_type": "code",
   "execution_count": 20,
   "id": "bf9029b6",
   "metadata": {},
   "outputs": [
    {
     "name": "stdout",
     "output_type": "stream",
     "text": [
      "(14, 14)\n"
     ]
    }
   ],
   "source": [
    "m = 14\n",
    "n = 19\n",
    "\n",
    "amat = np.random.rand(m,n)\n",
    "\n",
    "# palindrome\n",
    "amatama = amat@amat.T\n",
    "\n",
    "# show that it is a square\n",
    "print(np.shape(amatama))\n"
   ]
  },
  {
   "cell_type": "code",
   "execution_count": null,
   "id": "8972100f",
   "metadata": {},
   "outputs": [],
   "source": []
  }
 ],
 "metadata": {
  "kernelspec": {
   "display_name": "Python 3 (ipykernel)",
   "language": "python",
   "name": "python3"
  },
  "language_info": {
   "codemirror_mode": {
    "name": "ipython",
    "version": 3
   },
   "file_extension": ".py",
   "mimetype": "text/x-python",
   "name": "python",
   "nbconvert_exporter": "python",
   "pygments_lexer": "ipython3",
   "version": "3.9.12"
  }
 },
 "nbformat": 4,
 "nbformat_minor": 5
}
