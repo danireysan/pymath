{
 "cells": [
  {
   "cell_type": "code",
   "execution_count": 2,
   "id": "8af75d62",
   "metadata": {},
   "outputs": [],
   "source": [
    "import numpy as np\n",
    "from IPython.display import display, Math"
   ]
  },
  {
   "cell_type": "code",
   "execution_count": 19,
   "id": "361bf143",
   "metadata": {},
   "outputs": [
    {
     "name": "stdout",
     "output_type": "stream",
     "text": [
      "596 596 596\n"
     ]
    }
   ],
   "source": [
    "v = np.arange(10,20,3)\n",
    "w = np.arange(5,15,3)\n",
    "\n",
    "\n",
    "dp1 = 0\n",
    "\n",
    "for i in range(0,len(v)):\n",
    "    dp1 = dp1 + v[i] * w[i]\n",
    "    \n",
    "dp2 = np.sum( np.multiply(v,w))\n",
    "dp3 = np.dot(v, w)\n",
    "\n",
    "print(dp1,dp2,dp3)"
   ]
  },
  {
   "cell_type": "code",
   "execution_count": 27,
   "id": "3dfd8ca8",
   "metadata": {},
   "outputs": [
    {
     "data": {
      "text/latex": [
       "$\\displaystyle v^Tw=596$"
      ],
      "text/plain": [
       "<IPython.core.display.Math object>"
      ]
     },
     "metadata": {},
     "output_type": "display_data"
    }
   ],
   "source": [
    "def dot_product(vector1, vector2):\n",
    "    try:\n",
    "        dp1 = 0\n",
    "\n",
    "        for i in range(0,len(vector1)):\n",
    "            dp1 = dp1 + vector1[i] * vector2[i]\n",
    "        display(Math('v^Tw=%g' %dp1))\n",
    "    except IndexError: \n",
    "        print(\"Invalid dot product, you must input vectors with the same quantity of elements\")\n",
    "        \n",
    "dot_product(v, w)"
   ]
  },
  {
   "cell_type": "code",
   "execution_count": 28,
   "id": "6bedac43",
   "metadata": {},
   "outputs": [],
   "source": [
    "# Teacher solution\n",
    "\n",
    "def my_dot_product(v,w):\n",
    "    \n",
    "    # test whether the dot product is defined\n",
    "    if len(v) !=len(w):\n",
    "        raise ValueError('Vectors must have the same lenght')\n",
    "    # compute and display the dot product\n",
    "    display(Math('v^Tw=%g' %(np.dot(v,w))))"
   ]
  },
  {
   "cell_type": "code",
   "execution_count": 30,
   "id": "3149cea2",
   "metadata": {},
   "outputs": [
    {
     "data": {
      "text/latex": [
       "$\\displaystyle v^Tw=32$"
      ],
      "text/plain": [
       "<IPython.core.display.Math object>"
      ]
     },
     "metadata": {},
     "output_type": "display_data"
    }
   ],
   "source": [
    "v1 = np.array([1,4,5])\n",
    "v2 = np.array([1,4,3])\n",
    "\n",
    "v1  =np.squeeze(v1)\n",
    "\n",
    "my_dot_product(v1,v2)"
   ]
  },
  {
   "cell_type": "code",
   "execution_count": null,
   "id": "d4ab9055",
   "metadata": {},
   "outputs": [],
   "source": []
  }
 ],
 "metadata": {
  "kernelspec": {
   "display_name": "Python 3 (ipykernel)",
   "language": "python",
   "name": "python3"
  },
  "language_info": {
   "codemirror_mode": {
    "name": "ipython",
    "version": 3
   },
   "file_extension": ".py",
   "mimetype": "text/x-python",
   "name": "python",
   "nbconvert_exporter": "python",
   "pygments_lexer": "ipython3",
   "version": "3.9.12"
  }
 },
 "nbformat": 4,
 "nbformat_minor": 5
}
