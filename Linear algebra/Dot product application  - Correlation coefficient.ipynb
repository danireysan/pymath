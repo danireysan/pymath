{
 "cells": [
  {
   "cell_type": "code",
   "execution_count": 1,
   "id": "07541409",
   "metadata": {},
   "outputs": [],
   "source": [
    "import numpy as np\n",
    "import matplotlib.pyplot as plt\n"
   ]
  },
  {
   "cell_type": "code",
   "execution_count": 17,
   "id": "5c87f5c1",
   "metadata": {},
   "outputs": [
    {
     "data": {
      "image/png": "[encoded data removed]",
      "text/plain": [
       "<Figure size 432x288 with 1 Axes>"
      ]
     },
     "metadata": {
      "needs_background": "light"
     },
     "output_type": "display_data"
    }
   ],
   "source": [
    "# data \n",
    "mikes_corses  = [4,5,8,2,9,9,1,3,7]\n",
    "life_hapiness = [6,7,9,3,9,3,1,6,7]\n",
    "\n",
    "# mean center\n",
    "m = mikes_corses - np.mean(mikes_corses)\n",
    "l = life_hapiness - np.mean(life_hapiness)\n",
    "\n",
    "# compute the correlation\n",
    "numer = np.dot(m,l)\n",
    "denom = np.sqrt(np.dot(m,m)) * np.sqrt(np.dot(l,l))\n",
    "r1 = numer / denom\n",
    "\n",
    "r2 = np.corrcoef(m,l)\n",
    "\n",
    "plt.plot(mikes_corses, life_hapiness, 'ms', label=\"r=%g\" %r1)\n",
    "\n",
    "plt.axis([0,10,0,10])\n",
    "plt.xlabel(\"Number of Mike's courses\")\n",
    "plt.ylabel(\"Number of happiness\")\n",
    "plt.legend()\n",
    "plt.gca().set_\n",
    "plt.show()"
   ]
  },
  {
   "cell_type": "code",
   "execution_count": null,
   "id": "c7440dcf",
   "metadata": {},
   "outputs": [],
   "source": []
  },
  {
   "cell_type": "code",
   "execution_count": null,
   "id": "b46b7b73",
   "metadata": {},
   "outputs": [],
   "source": []
  }
 ],
 "metadata": {
  "kernelspec": {
   "display_name": "Python 3 (ipykernel)",
   "language": "python",
   "name": "python3"
  },
  "language_info": {
   "codemirror_mode": {
    "name": "ipython",
    "version": 3
   },
   "file_extension": ".py",
   "mimetype": "text/x-python",
   "name": "python",
   "nbconvert_exporter": "python",
   "pygments_lexer": "ipython3",
   "version": "3.9.12"
  }
 },
 "nbformat": 4,
 "nbformat_minor": 5
}
