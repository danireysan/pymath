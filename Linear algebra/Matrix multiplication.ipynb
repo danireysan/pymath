{
 "cells": [
  {
   "cell_type": "code",
   "execution_count": 1,
   "id": "4fbdada8",
   "metadata": {},
   "outputs": [],
   "source": [
    "import numpy as np"
   ]
  },
  {
   "cell_type": "code",
   "execution_count": 148,
   "id": "cb86a3dd",
   "metadata": {},
   "outputs": [
    {
     "name": "stdout",
     "output_type": "stream",
     "text": [
      "[[0.30504093 0.85712739 0.09490182 0.91110465 0.66220851 0.17029391\n",
      "  0.75292377]\n",
      " [0.18982168 0.73550449 0.95098005 0.84878786 0.57025445 0.45575777\n",
      "  0.35639668]\n",
      " [0.51023344 0.34939659 0.58776729 0.46708546 0.90912456 0.67952954\n",
      "  0.74510971]\n",
      " [0.58069523 0.51660264 0.03024644 0.28477653 0.75437852 0.67766309\n",
      "  0.32272608]\n",
      " [0.61428879 0.53881668 0.81948876 0.1877591  0.43310694 0.745301\n",
      "  0.92850224]]\n",
      "[[0.06975408 0.69552703 0.45298802 0.62474658 0.29701709]\n",
      " [0.4185765  0.01477947 0.92437171 0.33591382 0.21176717]\n",
      " [0.30454049 0.44551793 0.04452921 0.10678759 0.93644583]\n",
      " [0.05523745 0.91394645 0.14936729 0.22377225 0.21697765]\n",
      " [0.04163635 0.1774293  0.41043621 0.33052875 0.90079486]\n",
      " [0.02712029 0.9898674  0.58154626 0.09321764 0.05187854]\n",
      " [0.55565023 0.6881184  0.4862012  0.79172149 0.46208624]]\n"
     ]
    }
   ],
   "source": [
    "# 7 x 5 \n",
    "A = np.random.rand(7,5)\n",
    "# 14 X 10\n",
    "B = np.random.rand(14,10)\n",
    "# 5 x 7\n",
    "C = np.random.rand(5,7)\n",
    "\n",
    "# Valid matrix multiplications\n",
    "# A X C (14X10 * 10 X  14)\n",
    "# C X B (10X14 * 14X10)\n",
    "\n",
    "np.shape(C@A)\n",
    "print(C)\n",
    "print(A)"
   ]
  },
  {
   "cell_type": "code",
   "execution_count": 149,
   "id": "08aeb95a",
   "metadata": {},
   "outputs": [],
   "source": [
    "def matrix_mult(A,B):\n",
    "    \n",
    "    # get the matrix sizes\n",
    "    szA = np.shape(A)\n",
    "    szB = np.shape(B)\n",
    "\n",
    "    # check sizes and give error if multiplication is not valid\n",
    "    if szA[1] != szB[0]:\n",
    "        raise ValueError('\"Inner\" dimensions don\\'t match')\n",
    "            \n",
    "    # Initialize\n",
    "    C = np.zeros((szA[1], szB[0]))\n",
    "    # loop over the rows \n",
    "    for i in range(szA[0]):\n",
    "        for j in range(szB[1]):\n",
    "            C[i,j] = np.dot(A[i,:], B[:,j])\n",
    "                \n",
    "    return C"
   ]
  },
  {
   "cell_type": "code",
   "execution_count": 153,
   "id": "10d46473",
   "metadata": {},
   "outputs": [
    {
     "data": {
      "text/plain": [
       "array([[0.90983241, 1.90397771, 1.80769991, 1.52336776, 1.5119379 ,\n",
       "        0.        , 0.        ],\n",
       "       [0.89173803, 2.13988451, 1.60737181, 1.17028167, 1.9888576 ,\n",
       "        0.        , 0.        ],\n",
       "       [0.85694166, 2.39547018, 1.7806308 , 1.55717607, 2.07579077,\n",
       "        0.        , 0.        ],\n",
       "       [0.51079599, 1.71198938, 1.6450905 , 1.17129947, 1.23581392,\n",
       "        0.        , 0.        ],\n",
       "       [1.08249225, 2.42543108, 1.90349729, 1.64204196, 1.96255805,\n",
       "        0.        , 0.        ],\n",
       "       [0.        , 0.        , 0.        , 0.        , 0.        ,\n",
       "        0.        , 0.        ],\n",
       "       [0.        , 0.        , 0.        , 0.        , 0.        ,\n",
       "        0.        , 0.        ]])"
      ]
     },
     "execution_count": 153,
     "metadata": {},
     "output_type": "execute_result"
    }
   ],
   "source": [
    "\n",
    "D = matrix_mult(C,A)\n",
    "D"
   ]
  },
  {
   "cell_type": "code",
   "execution_count": 151,
   "id": "d37dea1b",
   "metadata": {},
   "outputs": [
    {
     "data": {
      "text/plain": [
       "array([[0.90983241, 1.90397771, 1.80769991, 1.52336776, 1.5119379 ],\n",
       "       [0.89173803, 2.13988451, 1.60737181, 1.17028167, 1.9888576 ],\n",
       "       [0.85694166, 2.39547018, 1.7806308 , 1.55717607, 2.07579077],\n",
       "       [0.51079599, 1.71198938, 1.6450905 , 1.17129947, 1.23581392],\n",
       "       [1.08249225, 2.42543108, 1.90349729, 1.64204196, 1.96255805]])"
      ]
     },
     "execution_count": 151,
     "metadata": {},
     "output_type": "execute_result"
    }
   ],
   "source": [
    "C@A"
   ]
  },
  {
   "cell_type": "code",
   "execution_count": null,
   "id": "b37529ac",
   "metadata": {},
   "outputs": [],
   "source": []
  },
  {
   "cell_type": "code",
   "execution_count": null,
   "id": "4f579dda",
   "metadata": {},
   "outputs": [],
   "source": []
  }
 ],
 "metadata": {
  "kernelspec": {
   "display_name": "Python 3 (ipykernel)",
   "language": "python",
   "name": "python3"
  },
  "language_info": {
   "codemirror_mode": {
    "name": "ipython",
    "version": 3
   },
   "file_extension": ".py",
   "mimetype": "text/x-python",
   "name": "python",
   "nbconvert_exporter": "python",
   "pygments_lexer": "ipython3",
   "version": "3.9.12"
  }
 },
 "nbformat": 4,
 "nbformat_minor": 5
}
