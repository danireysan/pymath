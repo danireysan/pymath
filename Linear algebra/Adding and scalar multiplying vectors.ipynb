{
 "cells": [
  {
   "cell_type": "code",
   "execution_count": 3,
   "id": "543ce46c",
   "metadata": {},
   "outputs": [],
   "source": [
    "import numpy as np\n",
    "import matplotlib.pyplot as plt\n",
    "import sympy as sym\n",
    "from IPython.display import display, Math"
   ]
  },
  {
   "cell_type": "code",
   "execution_count": 16,
   "id": "08d7d692",
   "metadata": {},
   "outputs": [
    {
     "data": {
      "image/png": "[encoded data removed]",
      "text/plain": [
       "<Figure size 432x288 with 1 Axes>"
      ]
     },
     "metadata": {
      "needs_background": "light"
     },
     "output_type": "display_data"
    }
   ],
   "source": [
    "# vector\n",
    "v = np.array([.5,1])\n",
    "# scalar\n",
    "s = [1,-.5,2,5]\n",
    "\n",
    "for si in s:\n",
    "    sv = si*v\n",
    "    plt.plot([0,sv[0]], [0,sv[1]], 'o-', linewidth=3, label='$\\\\lambda=%g$' %si )\n",
    "    \n",
    "plt.axis('square')\n",
    "plt.axis([-3,3, -3,3])\n",
    "plt.grid()\n",
    "plt.legend()\n",
    "plt.show()"
   ]
  },
  {
   "cell_type": "code",
   "execution_count": 22,
   "id": "ccfa8713",
   "metadata": {},
   "outputs": [
    {
     "name": "stdout",
     "output_type": "stream",
     "text": [
      "[0 3] [0 3] [0. 3.]\n"
     ]
    }
   ],
   "source": [
    "v1 = np.array([-1,2])\n",
    "v2 = np.array([1,1])\n",
    "\n",
    "v3a = v1+v2\n",
    "v3b = np.add(v1, v2)\n",
    "v3c = np.zeros(2)\n",
    "\n",
    "for i in range(0,2):\n",
    "    v3c[1] = v1[i] + v2[i]\n",
    "    \n",
    "print(v3a, v3b, v3c)"
   ]
  },
  {
   "cell_type": "code",
   "execution_count": 51,
   "id": "b701f6b2",
   "metadata": {},
   "outputs": [
    {
     "data": {
      "text/latex": [
       "$\\displaystyle \\left[\\begin{matrix}-1 & 2\\end{matrix}\\right] + \\left[\\begin{matrix}1 & 1\\end{matrix}\\right] = \\left[\\begin{matrix}0 & 3\\end{matrix}\\right]$"
      ],
      "text/plain": [
       "<IPython.core.display.Math object>"
      ]
     },
     "metadata": {},
     "output_type": "display_data"
    },
    {
     "data": {
      "image/png": "[encoded data removed]",
      "text/plain": [
       "<Figure size 432x288 with 1 Axes>"
      ]
     },
     "metadata": {
      "needs_background": "light"
     },
     "output_type": "display_data"
    }
   ],
   "source": [
    "# Confirm that the geometric and algebraic intepretations of vector addition converge\n",
    "\n",
    "# Vectors\n",
    "v1 = np.array([-1,2])\n",
    "v2 = np.array([1,1])\n",
    "v3 = np.add(v1,v2)\n",
    "\n",
    "# We transform the numpy arrays to be displayed\n",
    "sympifiedV1 = sym.latex(sym.sympify(v1))\n",
    "sympifiedV2 = sym.latex(sym.sympify(v2))\n",
    "sympifiedV3 = sym.latex(sym.sympify(v3))\n",
    "\n",
    "# Displaying the vector addition\n",
    "display(Math('%s + %s = %s' %(sympifiedV1, sympifiedV2, sympifiedV3) ) )\n",
    "# Plotting the first vector from 0,0 \n",
    "plt.plot([0,v1[0]], [0,v1[1]], linewidth=3, color='c', label=\"v1\")\n",
    "\n",
    "# Plotting the second vector from the head of the first vector\n",
    "plt.plot([0,v2[0]]+v1[0], [0,v2[1]]+v1[1], linewidth=3, color='orange', label=\"v2\")\n",
    "\n",
    "# Plotting the third vector\n",
    "plt.plot([0,v3[0]], [0,v3[1]], linewidth=3, color='green', label=\"v2\")\n",
    "\n",
    "# Styling the plot\n",
    "plt.axis('square')\n",
    "plt.axis([ -2, 2, -2,4,])\n",
    "plt.legend()\n",
    "plt.show()"
   ]
  },
  {
   "cell_type": "code",
   "execution_count": null,
   "id": "dc34ec97",
   "metadata": {},
   "outputs": [],
   "source": []
  }
 ],
 "metadata": {
  "kernelspec": {
   "display_name": "Python 3 (ipykernel)",
   "language": "python",
   "name": "python3"
  },
  "language_info": {
   "codemirror_mode": {
    "name": "ipython",
    "version": 3
   },
   "file_extension": ".py",
   "mimetype": "text/x-python",
   "name": "python",
   "nbconvert_exporter": "python",
   "pygments_lexer": "ipython3",
   "version": "3.9.12"
  }
 },
 "nbformat": 4,
 "nbformat_minor": 5
}
