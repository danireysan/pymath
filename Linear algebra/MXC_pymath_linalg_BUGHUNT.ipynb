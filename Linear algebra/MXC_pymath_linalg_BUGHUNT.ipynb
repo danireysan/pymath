{
 "cells": [
  {
   "cell_type": "markdown",
   "metadata": {},
   "source": [
    "# COURSE: Master math by coding in Python\n",
    "## SECTION: Linear algebra\n",
    "\n",
    "#### www.udemy.com/master-math-with-python\n",
    "#### INSTRUCTOR: sincxpress.com\n",
    "\n",
    "Note about this code: Each video in this section of the course corresponds to a section of code below. Please note that this code roughly matches the code shown in the live recording, but is not exactly the same -- the variable names, order of lines, and parameters may be slightly different. "
   ]
  },
  {
   "cell_type": "code",
   "execution_count": 1,
   "metadata": {},
   "outputs": [],
   "source": [
    "import numpy as np\n",
    "import sympy as sym\n",
    "import matplotlib.pyplot as plt\n",
    "from IPython.display import Math, display"
   ]
  },
  {
   "cell_type": "markdown",
   "metadata": {},
   "source": [
    "# Linear algebra BUG HUNT!!"
   ]
  },
  {
   "cell_type": "code",
   "execution_count": 2,
   "metadata": {},
   "outputs": [
    {
     "data": {
      "text/latex": [
       "$\\displaystyle \\left[\\begin{matrix}-2\\\\3\\end{matrix}\\right]$"
      ],
      "text/plain": [
       "<IPython.core.display.Math object>"
      ]
     },
     "metadata": {},
     "output_type": "display_data"
    }
   ],
   "source": [
    "# create a column vector\n",
    "cv = np.array([[-2], [3]])\n",
    "\n",
    "display(Math(sym.latex(sym.sympify(cv))))"
   ]
  },
  {
   "cell_type": "code",
   "execution_count": 8,
   "metadata": {},
   "outputs": [
    {
     "data": {
      "image/png": "[encoded data removed]",
      "text/plain": [
       "<Figure size 432x288 with 1 Axes>"
      ]
     },
     "metadata": {
      "needs_background": "light"
     },
     "output_type": "display_data"
    }
   ],
   "source": [
    "# visualize scalar-vector multiplication\n",
    "\n",
    "v = np.array([-2,2])\n",
    "s = .7\n",
    "\n",
    "sv = s*v\n",
    "plt.plot([0,v[0]],[0,v[1]],'ro-',linewidth=3,label='v')\n",
    "plt.plot([0,sv[0]],[0,sv[1]],'o-',linewidth=3,label='$v\\\\lambda$')\n",
    "    \n",
    "\n",
    "plt.legend()\n",
    "plt.axis([-3,3,-3,3])\n",
    "plt.axis('square')\n",
    "plt.grid()\n",
    "plt.show()"
   ]
  },
  {
   "cell_type": "code",
   "execution_count": 11,
   "metadata": {},
   "outputs": [
    {
     "name": "stdout",
     "output_type": "stream",
     "text": [
      "-3.085783418223447\t-3.085783418223447\n"
     ]
    }
   ],
   "source": [
    "# algorithm to compute the dot product\n",
    "v = np.random.randn(8)\n",
    "w = np.random.randn(8)\n",
    "\n",
    "dp1 = 0\n",
    "for i in range(0,len(v)):\n",
    "    dp1 = dp1 + v[i]*w[i]\n",
    "\n",
    "dp2 = np.dot(v,w)\n",
    "\n",
    "print(str(dp1) + '\\t' + str(dp2))"
   ]
  },
  {
   "cell_type": "code",
   "execution_count": 17,
   "metadata": {},
   "outputs": [
    {
     "name": "stdout",
     "output_type": "stream",
     "text": [
      "0.9286318683566237\n",
      "0.9286318683566236\n"
     ]
    }
   ],
   "source": [
    "# number of data points\n",
    "n = 10\n",
    "\n",
    "# data\n",
    "data1 = np.arange(0,n) + np.random.randn(n)\n",
    "data2 = np.arange(0,n) + np.random.randn(n)\n",
    "\n",
    "data1 -= np.mean(data1)\n",
    "data2 -= np.mean(data2)\n",
    "# compute correlation\n",
    "numer = np.dot(data1,data2)\n",
    "denom = np.sqrt( np.dot(data1,data1) ) * np.sqrt(np.dot(data2,data2))\n",
    "r1 = numer/denom\n",
    "\n",
    "# confirm with numpy function\n",
    "r2 = np.corrcoef(data1,data2)[1][0]\n",
    "\n",
    "print(r1)\n",
    "print(r2)"
   ]
  },
  {
   "cell_type": "code",
   "execution_count": 22,
   "metadata": {},
   "outputs": [
    {
     "name": "stdout",
     "output_type": "stream",
     "text": [
      "[[0. 0. 0. 0.]\n",
      " [0. 0. 0. 0.]\n",
      " [0. 0. 0. 0.]\n",
      " [0. 0. 0. 0.]\n",
      " [0. 0. 0. 0.]\n",
      " [0. 0. 0. 0.]\n",
      " [0. 0. 0. 0.]]\n"
     ]
    }
   ],
   "source": [
    "# outer product computation\n",
    "o1 = np.random.randint(0,10,7)\n",
    "o2 = np.random.randint(0,10,4)\n",
    "\n",
    "outermat = np.zeros((len(o1),len(o2)))\n",
    "\n",
    "for i in range(len(o1)):\n",
    "    outermat[i,:] = o1[i]*o2\n",
    "    \n",
    "print(outermat-np.outer(o1,o2))"
   ]
  },
  {
   "cell_type": "code",
   "execution_count": 24,
   "metadata": {},
   "outputs": [
    {
     "data": {
      "text/plain": [
       "array([[ 5.68918028e-01,  6.38602847e-01, -1.53084787e+00,\n",
       "         7.11823935e-01,  3.25782942e-01],\n",
       "       [ 1.43266919e+00, -7.54725023e-01,  8.27079153e-01,\n",
       "        -7.13267199e-01, -1.24206799e+00],\n",
       "       [ 6.61229158e-01, -5.63697129e-02, -2.75686350e-03,\n",
       "         4.06460861e-01,  6.25586596e-02],\n",
       "       [-1.43691025e-02,  3.69518175e-01, -3.35586658e+00,\n",
       "         4.19212610e-01, -7.51690533e-01],\n",
       "       [ 5.03313177e-01, -8.69678275e-01,  6.23304585e-01,\n",
       "         7.29241033e-01, -1.18678108e+00]])"
      ]
     },
     "execution_count": 24,
     "metadata": {},
     "output_type": "execute_result"
    }
   ],
   "source": [
    "# matrix multiplication\n",
    "A = np.random.randn(5,5)\n",
    "I = np.eye(5)\n",
    "\n",
    "A@I"
   ]
  },
  {
   "cell_type": "code",
   "execution_count": 25,
   "metadata": {},
   "outputs": [
    {
     "name": "stdout",
     "output_type": "stream",
     "text": [
      "[[-0.72702438 -1.48888144 -0.42933918  0.39489291  0.89942787]\n",
      " [ 0.16665263  1.79172533  0.79345401  1.25490513 -0.36443992]\n",
      " [-0.73660719 -1.27122372  1.23560666  2.21507771  0.26048822]\n",
      " [-0.62562808 -0.60583514 -0.54119399 -0.29380559 -1.50729187]\n",
      " [ 0.28631351 -0.56871922  0.38100798  0.4356922  -0.61120176]\n",
      " [ 0.05930904  0.60264751 -1.18538396  1.89131298  0.7778851 ]\n",
      " [-0.58721597 -0.9788024  -2.22118458  1.28790837 -0.05096255]\n",
      " [-0.11233817  0.51856919  0.06133603 -2.09660192 -1.10193531]]\n",
      " \n",
      "[[-0.72702438 -1.48888144 -0.42933918  0.39489291  0.89942787]\n",
      " [ 0.16665263  1.79172533  0.79345401  1.25490513 -0.36443992]\n",
      " [-0.73660719 -1.27122372  1.23560666  2.21507771  0.26048822]\n",
      " [-0.62562808 -0.60583514 -0.54119399 -0.29380559 -1.50729187]\n",
      " [ 0.28631351 -0.56871922  0.38100798  0.4356922  -0.61120176]\n",
      " [ 0.05930904  0.60264751 -1.18538396  1.89131298  0.7778851 ]\n",
      " [-0.58721597 -0.9788024  -2.22118458  1.28790837 -0.05096255]\n",
      " [-0.11233817  0.51856919  0.06133603 -2.09660192 -1.10193531]]\n"
     ]
    }
   ],
   "source": [
    "# matrix multiplication\n",
    "A = np.random.randn(8,5)\n",
    "I = np.eye(5)\n",
    "\n",
    "print(A)\n",
    "print(' ')\n",
    "print(A@I)"
   ]
  },
  {
   "cell_type": "code",
   "execution_count": 27,
   "metadata": {},
   "outputs": [
    {
     "data": {
      "text/plain": [
       "array([[ 1., -0.,  0., -0., -0.],\n",
       "       [ 0.,  1.,  0.,  0.,  0.],\n",
       "       [-0.,  0.,  1.,  0., -0.],\n",
       "       [ 0.,  0., -0.,  1.,  0.],\n",
       "       [-0., -0.,  0., -0.,  1.]])"
      ]
     },
     "execution_count": 27,
     "metadata": {},
     "output_type": "execute_result"
    }
   ],
   "source": [
    "# random matrices are invertible\n",
    "A = np.random.randint(-5,6,(5,5))\n",
    "Ainv = np.linalg.inv(A)\n",
    "\n",
    "np.round(A@Ainv,4)"
   ]
  },
  {
   "cell_type": "code",
   "execution_count": 28,
   "metadata": {},
   "outputs": [
    {
     "data": {
      "image/png": "[encoded data removed]",
      "text/plain": [
       "<Figure size 432x288 with 1 Axes>"
      ]
     },
     "metadata": {
      "needs_background": "light"
     },
     "output_type": "display_data"
    }
   ],
   "source": [
    "# plot the eigenspectrum\n",
    "# the matrix\n",
    "M = np.random.randint(-5,5,(5,5))\n",
    "M = M@M.T\n",
    "\n",
    "# its eigendecomposition\n",
    "eigvals,eigenvectors = np.linalg.eig(M)\n",
    "\n",
    "plt.plot(np.matrix.flatten(eigvals),'s-')\n",
    "plt.xlabel('Components')\n",
    "plt.ylabel('Eigenvalues')\n",
    "\n",
    "plt.show()"
   ]
  },
  {
   "cell_type": "code",
   "execution_count": 31,
   "metadata": {},
   "outputs": [
    {
     "ename": "ValueError",
     "evalue": "matmul: Input operand 1 has a mismatch in its core dimension 0, with gufunc signature (n?,k),(k,m?)->(n?,m?) (size 8 is different from 10)",
     "output_type": "error",
     "traceback": [
      "\u001b[1;31m---------------------------------------------------------------------------\u001b[0m",
      "\u001b[1;31mValueError\u001b[0m                                Traceback (most recent call last)",
      "Input \u001b[1;32mIn [31]\u001b[0m, in \u001b[0;36m<cell line: 10>\u001b[1;34m()\u001b[0m\n\u001b[0;32m      7\u001b[0m S \u001b[38;5;241m=\u001b[39m np\u001b[38;5;241m.\u001b[39mzeros(np\u001b[38;5;241m.\u001b[39mshape(s))\n\u001b[0;32m      8\u001b[0m S \u001b[38;5;241m=\u001b[39m np\u001b[38;5;241m.\u001b[39mdiag(S)\n\u001b[1;32m---> 10\u001b[0m Arecon \u001b[38;5;241m=\u001b[39m \u001b[43mU\u001b[49m\u001b[38;5;129;43m@S\u001b[39;49m\u001b[38;5;129;43m@v\u001b[39;49m\n\u001b[0;32m     12\u001b[0m fig,ax \u001b[38;5;241m=\u001b[39m plt\u001b[38;5;241m.\u001b[39msubplots(\u001b[38;5;241m1\u001b[39m,\u001b[38;5;241m3\u001b[39m)\n\u001b[0;32m     14\u001b[0m ax[\u001b[38;5;241m0\u001b[39m]\u001b[38;5;241m.\u001b[39mimshow(A,vmin\u001b[38;5;241m=\u001b[39m\u001b[38;5;241m-\u001b[39m\u001b[38;5;241m10\u001b[39m,vmax\u001b[38;5;241m=\u001b[39m\u001b[38;5;241m10\u001b[39m)\n",
      "\u001b[1;31mValueError\u001b[0m: matmul: Input operand 1 has a mismatch in its core dimension 0, with gufunc signature (n?,k),(k,m?)->(n?,m?) (size 8 is different from 10)"
     ]
    }
   ],
   "source": [
    "# Reconstruct a matrix based on its SVD\n",
    "A = np.random.randint(-10,11,(10,20))\n",
    "\n",
    "U,s,V = np.linalg.svd(A)\n",
    "\n",
    "# reconstruct S\n",
    "S = np.zeros(np.shape(s))\n",
    "S = np.diag(S)\n",
    "\n",
    "Arecon = U@S@v\n",
    "\n",
    "fig,ax = plt.subplots(1,3)\n",
    "\n",
    "ax[0].imshow(A,vmin=-10,vmax=10)\n",
    "ax[0].set_title('A')\n",
    "\n",
    "ax[1].imshow(Arecon,vmin=-10,vmax=10)\n",
    "ax[1].set_title('Arecon')\n",
    "\n",
    "ax[2].imshow(A-Arecon,vmin=-10,vmax=10)\n",
    "ax[2].set_title('A-Arecon')\n",
    "\n",
    "plt.show()"
   ]
  },
  {
   "cell_type": "code",
   "execution_count": null,
   "metadata": {},
   "outputs": [],
   "source": []
  }
 ],
 "metadata": {
  "kernelspec": {
   "display_name": "Python 3 (ipykernel)",
   "language": "python",
   "name": "python3"
  },
  "language_info": {
   "codemirror_mode": {
    "name": "ipython",
    "version": 3
   },
   "file_extension": ".py",
   "mimetype": "text/x-python",
   "name": "python",
   "nbconvert_exporter": "python",
   "pygments_lexer": "ipython3",
   "version": "3.9.12"
  }
 },
 "nbformat": 4,
 "nbformat_minor": 2
}
