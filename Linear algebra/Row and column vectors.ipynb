{
 "cells": [
  {
   "cell_type": "code",
   "execution_count": 4,
   "id": "837723fa",
   "metadata": {},
   "outputs": [],
   "source": [
    "import numpy as np\n",
    "import matplotlib.pyplot as plt\n",
    "import sympy as sym\n",
    "\n",
    "from IPython.display import display, Math"
   ]
  },
  {
   "cell_type": "code",
   "execution_count": 21,
   "id": "0830c0ea",
   "metadata": {},
   "outputs": [
    {
     "name": "stdout",
     "output_type": "stream",
     "text": [
      "[4 2]\n",
      "[[-2]\n",
      " [ 3]]\n"
     ]
    }
   ],
   "source": [
    "row_vec = np.array([4,2])\n",
    "col_vec = np.array([[-2], [3]])\n",
    "\n",
    "print(row_vec)\n",
    "\n",
    "print(col_vec)"
   ]
  },
  {
   "cell_type": "code",
   "execution_count": 22,
   "id": "123b4540",
   "metadata": {},
   "outputs": [
    {
     "data": {
      "text/latex": [
       "$\\displaystyle \\left[\\begin{matrix}4 & 2\\end{matrix}\\right]$"
      ],
      "text/plain": [
       "<IPython.core.display.Math object>"
      ]
     },
     "metadata": {},
     "output_type": "display_data"
    },
    {
     "data": {
      "text/latex": [
       "$\\displaystyle \\left[\\begin{matrix}-2\\\\3\\end{matrix}\\right]$"
      ],
      "text/plain": [
       "<IPython.core.display.Math object>"
      ]
     },
     "metadata": {},
     "output_type": "display_data"
    }
   ],
   "source": [
    "display(Math(sym.latex(sym.sympify(row_vec))))\n",
    "display(Math(sym.latex(sym.sympify(col_vec))))"
   ]
  },
  {
   "cell_type": "code",
   "execution_count": 23,
   "id": "bb1d410d",
   "metadata": {},
   "outputs": [
    {
     "data": {
      "image/png": "[encoded data removed]",
      "text/plain": [
       "<Figure size 432x288 with 1 Axes>"
      ]
     },
     "metadata": {
      "needs_background": "light"
     },
     "output_type": "display_data"
    }
   ],
   "source": [
    "plt.plot([0,row_vec[0]], [0, row_vec[1]], 'r', label=\"Row vector\")\n",
    "plt.plot([0,col_vec[0]], [0, col_vec[1]], 'b', label=\"Columnvector\")\n",
    "\n",
    "plt.axis('square')\n",
    "plt.axis([-5,5,-5,5])\n",
    "plt.grid()\n",
    "plt.legend()\n",
    "plt.show()"
   ]
  },
  {
   "cell_type": "code",
   "execution_count": null,
   "id": "bcf38216",
   "metadata": {},
   "outputs": [],
   "source": []
  }
 ],
 "metadata": {
  "kernelspec": {
   "display_name": "Python 3 (ipykernel)",
   "language": "python",
   "name": "python3"
  },
  "language_info": {
   "codemirror_mode": {
    "name": "ipython",
    "version": 3
   },
   "file_extension": ".py",
   "mimetype": "text/x-python",
   "name": "python",
   "nbconvert_exporter": "python",
   "pygments_lexer": "ipython3",
   "version": "3.9.12"
  }
 },
 "nbformat": 4,
 "nbformat_minor": 5
}
