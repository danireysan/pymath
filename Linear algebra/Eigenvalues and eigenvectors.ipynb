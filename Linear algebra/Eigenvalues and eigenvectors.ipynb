{
 "cells": [
  {
   "cell_type": "code",
   "execution_count": 13,
   "id": "04e225c6",
   "metadata": {},
   "outputs": [],
   "source": [
    "import numpy as np\n",
    "import matplotlib.pyplot as plt"
   ]
  },
  {
   "cell_type": "code",
   "execution_count": 14,
   "id": "d4c4d353",
   "metadata": {},
   "outputs": [
    {
     "data": {
      "image/png": "[encoded data removed]",
      "text/plain": [
       "<Figure size 432x288 with 3 Axes>"
      ]
     },
     "metadata": {
      "needs_background": "light"
     },
     "output_type": "display_data"
    }
   ],
   "source": [
    "M = np.random.randint(-5,6, (5,5))\n",
    "M = M@M.T\n",
    "\n",
    "eigvals, eigvecs = np.linalg.eig(M)\n",
    "\n",
    "fig,ax = plt.subplots(1,3)\n",
    "\n",
    "ax[0].imshow(M)\n",
    "ax[0].set_title('The matrix')\n",
    "\n",
    "ax[1].imshow(np.diag(eigvals))\n",
    "ax[1].set_title(\"Eigenvalues\")\n",
    "\n",
    "ax[2].imshow(eigvecs)\n",
    "ax[2].set_title(\"Eigenvectors\")\n",
    "\n",
    "plt.show()"
   ]
  },
  {
   "cell_type": "code",
   "execution_count": 17,
   "id": "832552f2",
   "metadata": {},
   "outputs": [
    {
     "name": "stdout",
     "output_type": "stream",
     "text": [
      "[2.12132034 2.12132034]\n",
      "[2.12132034 2.12132034]\n"
     ]
    }
   ],
   "source": [
    "Mv = M@eigvecs[:,0]\n",
    "lv = eigvals[0]*eigvecs[:,0]\n",
    "print(Mv)\n",
    "print(lv)"
   ]
  },
  {
   "cell_type": "code",
   "execution_count": 24,
   "id": "62c44b38",
   "metadata": {},
   "outputs": [
    {
     "data": {
      "image/png": "[encoded data removed]",
      "text/plain": [
       "<Figure size 432x288 with 2 Axes>"
      ]
     },
     "metadata": {
      "needs_background": "light"
     },
     "output_type": "display_data"
    }
   ],
   "source": [
    "M = np.array([[1,2],[2,1]])\n",
    "\n",
    "eigvals, eigvecs = np.linalg.eig(M)\n",
    "\n",
    "Mv = M@eigvecs[:,0]\n",
    "lv = eigvals[0]*eigvecs[:,0]\n",
    "\n",
    "fig,ax =plt.subplots(1,2)\n",
    "\n",
    "ax[0].plot([0,Mv[0]], [0, Mv[1]])\n",
    "\n",
    "ax[1].plot([0,lv[0]], [0, lv[1]])\n",
    "plt.show()"
   ]
  },
  {
   "cell_type": "code",
   "execution_count": 45,
   "id": "d4b7fb6d",
   "metadata": {},
   "outputs": [
    {
     "name": "stdout",
     "output_type": "stream",
     "text": [
      "[[1. 1. 1. 1. 1. 1.]\n",
      " [1. 1. 1. 1. 1. 1.]\n",
      " [1. 1. 1. 1. 1. 1.]\n",
      " [1. 1. 1. 1. 1. 1.]\n",
      " [1. 1. 1. 1. 1. 1.]\n",
      " [1. 1. 1. 1. 1. 1.]]\n"
     ]
    }
   ],
   "source": [
    "m = 6\n",
    "M6 = np.random.randint(-2,2, (m,m))\n",
    "M6 = M6@M6.T\n",
    "\n",
    "eigenvals, eigenvectors = np.linalg.eig(M6)\n",
    "\n",
    "dps = np.zeros((m,m))\n",
    "for i in range(m):\n",
    "    for j in range(0,m):\n",
    "        dps[i,j] = np.dot(eigenvectors[:,i], eigenvectors[:,i])\n",
    "print(np.round(dps,2))"
   ]
  },
  {
   "cell_type": "code",
   "execution_count": null,
   "id": "080eb036",
   "metadata": {},
   "outputs": [],
   "source": []
  },
  {
   "cell_type": "code",
   "execution_count": null,
   "id": "06ad4acf",
   "metadata": {},
   "outputs": [],
   "source": []
  }
 ],
 "metadata": {
  "kernelspec": {
   "display_name": "Python 3 (ipykernel)",
   "language": "python",
   "name": "python3"
  },
  "language_info": {
   "codemirror_mode": {
    "name": "ipython",
    "version": 3
   },
   "file_extension": ".py",
   "mimetype": "text/x-python",
   "name": "python",
   "nbconvert_exporter": "python",
   "pygments_lexer": "ipython3",
   "version": "3.9.12"
  }
 },
 "nbformat": 4,
 "nbformat_minor": 5
}
