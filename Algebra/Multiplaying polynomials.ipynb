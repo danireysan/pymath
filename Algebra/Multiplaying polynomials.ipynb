{
 "cells": [
  {
   "cell_type": "code",
   "execution_count": 20,
   "metadata": {},
   "outputs": [],
   "source": [
    "import sympy as sym\n",
    "from IPython.display import display, Math\n",
    "\n",
    "x, y = sym.symbols('x, y')"
   ]
  },
  {
   "cell_type": "code",
   "execution_count": 21,
   "metadata": {},
   "outputs": [
    {
     "data": {
      "text/latex": [
       "$\\displaystyle x^{8}$"
      ],
      "text/plain": [
       "x**8"
      ]
     },
     "execution_count": 21,
     "metadata": {},
     "output_type": "execute_result"
    }
   ],
   "source": [
    "x**5 * x**3"
   ]
  },
  {
   "cell_type": "code",
   "execution_count": 22,
   "metadata": {},
   "outputs": [
    {
     "data": {
      "text/latex": [
       "$\\displaystyle \\left(4 x^{2} - 2 x\\right) \\left(x^{3} - 1\\right)$"
      ],
      "text/plain": [
       "<IPython.core.display.Math object>"
      ]
     },
     "metadata": {},
     "output_type": "display_data"
    },
    {
     "data": {
      "text/latex": [
       "$\\displaystyle 4 x^{5} - 2 x^{4} - 4 x^{2} + 2 x$"
      ],
      "text/plain": [
       "<IPython.core.display.Math object>"
      ]
     },
     "metadata": {},
     "output_type": "display_data"
    }
   ],
   "source": [
    "p1 = 4*x**2 - 2*x\n",
    "p2 = x**3 - 1 \n",
    "display(Math(sym.latex( p1*p2 )))\n",
    "display(Math(sym.latex(sym.expand(p1*p2))))"
   ]
  },
  {
   "cell_type": "code",
   "execution_count": 28,
   "metadata": {},
   "outputs": [
    {
     "data": {
      "text/latex": [
       "$\\displaystyle (4 x^{4} - 3 x^{2} + x y^{2} - 9 y^{3}) \\times (- x^{3} + 6 x^{2} y + 0.8 y^{3}) = - 4 x^{7} + 24 x^{6} y + 3 x^{5} + 3.2 x^{4} y^{3} - x^{4} y^{2} - 18 x^{4} y + 15 x^{3} y^{3} - 54 x^{2} y^{4} - 2.4 x^{2} y^{3} + 0.8 x y^{5} - 7.2 y^{6}$"
      ],
      "text/plain": [
       "<IPython.core.display.Math object>"
      ]
     },
     "metadata": {},
     "output_type": "display_data"
    }
   ],
   "source": [
    "fxy = 4*x**4 - 3*x**2 + x*y**2 - 9*y**3\n",
    "gxy = -1*x**3 + 6*x**2 *y + .8*y**3 \n",
    "\n",
    "display(Math('(%s) \\\\times (%s) = %s' %(sym.latex(fxy), sym.latex(gxy), sym.latex(sym.expand(fxy*gxy)))))"
   ]
  },
  {
   "cell_type": "code",
   "execution_count": 33,
   "metadata": {},
   "outputs": [
    {
     "name": "stdout",
     "output_type": "stream",
     "text": [
      "Multiplied soluctions is -1085833.80000000\n",
      "Separate solutions come to -1085833.80000000\n"
     ]
    }
   ],
   "source": [
    "xval = 5\n",
    "yval = -2\n",
    "\n",
    "fg = (fxy*gxy).subs({x:xval, y:yval})\n",
    "print('Multiplied soluctions is %s' %fg)\n",
    "\n",
    "fxy_ans = fxy.subs({x:xval, y:yval})\n",
    "gxy_ans = gxy.subs({x:xval, y:yval})\n",
    "print('Separate solutions come to %s' %(fxy_ans*gxy_ans))"
   ]
  },
  {
   "cell_type": "code",
   "execution_count": null,
   "metadata": {},
   "outputs": [],
   "source": []
  }
 ],
 "metadata": {
  "kernelspec": {
   "display_name": "Python 3",
   "language": "python",
   "name": "python3"
  },
  "language_info": {
   "codemirror_mode": {
    "name": "ipython",
    "version": 3
   },
   "file_extension": ".py",
   "mimetype": "text/x-python",
   "name": "python",
   "nbconvert_exporter": "python",
   "pygments_lexer": "ipython3",
   "version": "3.7.4"
  }
 },
 "nbformat": 4,
 "nbformat_minor": 2
}
