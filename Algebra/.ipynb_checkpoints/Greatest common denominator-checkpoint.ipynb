{
 "cells": [
  {
   "cell_type": "code",
   "execution_count": 20,
   "metadata": {},
   "outputs": [
    {
     "data": {
      "text/plain": [
       "5"
      ]
     },
     "execution_count": 20,
     "metadata": {},
     "output_type": "execute_result"
    }
   ],
   "source": [
    "import math\n",
    "import sympy as sym\n",
    "import numpy as np\n",
    "from IPython.display import display, Math\n",
    "\n",
    "\n",
    "math.gcd(95,100)"
   ]
  },
  {
   "cell_type": "code",
   "execution_count": 21,
   "metadata": {},
   "outputs": [
    {
     "data": {
      "text/latex": [
       "$\\displaystyle \\frac{16}{88} = \\frac{2\\times 8}{11\\times 8}$"
      ],
      "text/plain": [
       "<IPython.core.display.Math object>"
      ]
     },
     "metadata": {},
     "output_type": "display_data"
    }
   ],
   "source": [
    "# application\n",
    "\n",
    "a = 16\n",
    "b = 88\n",
    "\n",
    "fact = math.gcd(a,b)\n",
    "\n",
    "display(Math('\\\\frac{%g}{%g} = \\\\frac{%g\\\\times %g}{%g\\\\times %g}' %(a,b,a/fact, fact, b/fact, fact)))"
   ]
  },
  {
   "cell_type": "code",
   "execution_count": 22,
   "metadata": {},
   "outputs": [
    {
     "data": {
      "text/latex": [
       "$\\displaystyle c$"
      ],
      "text/plain": [
       "c"
      ]
     },
     "metadata": {},
     "output_type": "display_data"
    },
    {
     "data": {
      "text/latex": [
       "$\\displaystyle c$"
      ],
      "text/plain": [
       "c"
      ]
     },
     "metadata": {},
     "output_type": "display_data"
    },
    {
     "data": {
      "text/latex": [
       "$\\displaystyle 9$"
      ],
      "text/plain": [
       "9"
      ]
     },
     "metadata": {},
     "output_type": "display_data"
    },
    {
     "data": {
      "text/latex": [
       "$\\displaystyle 9$"
      ],
      "text/plain": [
       "9"
      ]
     },
     "metadata": {},
     "output_type": "display_data"
    }
   ],
   "source": [
    "c,a,b = sym.symbols('c,a,b')\n",
    "display( sym.gcd(c*a, c*b) )\n",
    "display( c*sym.gcd(a,b) )\n",
    "\n",
    "a = 15\n",
    "b = 6\n",
    "c = 3\n",
    "\n",
    "display( sym.gcd(c*a, c*b) )\n",
    "display( c*sym.gcd(a,b) )\n"
   ]
  },
  {
   "cell_type": "code",
   "execution_count": 26,
   "metadata": {},
   "outputs": [
    {
     "data": {
      "text/plain": [
       "array([[99., 99., 99., 99., 99., 99., 99., 99., 99., 99., 99., 99., 99.,\n",
       "        99., 99.],\n",
       "       [99., 99., 99., 99., 99., 99., 99., 99., 99., 99., 99., 99., 99.,\n",
       "        99., 99.],\n",
       "       [99., 99., 99., 99., 99., 99., 99., 99., 99., 99., 99., 99., 99.,\n",
       "        99., 99.],\n",
       "       [99., 99., 99., 99., 99., 99., 99., 99., 99., 99., 99., 99., 99.,\n",
       "        99., 99.],\n",
       "       [99., 99., 99., 99., 99., 99., 99., 99., 99., 99., 99., 99., 99.,\n",
       "        99., 99.],\n",
       "       [99., 99., 99., 99., 99., 99., 99., 99., 99., 99., 99., 99., 99.,\n",
       "        99., 99.],\n",
       "       [99., 99., 99., 99., 99., 99., 99., 99., 99., 99., 99., 99., 99.,\n",
       "        99., 99.],\n",
       "       [99., 99., 99., 99., 99., 99., 99., 99., 99., 99., 99., 99., 99.,\n",
       "        99., 99.],\n",
       "       [99., 99., 99., 99., 99., 99., 99., 99., 99., 99., 99., 99., 99.,\n",
       "        99., 99.],\n",
       "       [99., 99., 99., 99., 99., 99., 99., 99., 99., 99., 99., 99., 99.,\n",
       "        99., 99.]])"
      ]
     },
     "execution_count": 26,
     "metadata": {},
     "output_type": "execute_result"
    }
   ],
   "source": [
    "n = 10 \n",
    "m = 15\n",
    "\n",
    "gcdMat = np.zeros([n,m])+99\n",
    "\n",
    "for rowi in range(0,n):\n",
    "    for coli in range(0,m)"
   ]
  },
  {
   "cell_type": "code",
   "execution_count": null,
   "metadata": {},
   "outputs": [],
   "source": []
  }
 ],
 "metadata": {
  "kernelspec": {
   "display_name": "Python 3",
   "language": "python",
   "name": "python3"
  },
  "language_info": {
   "codemirror_mode": {
    "name": "ipython",
    "version": 3
   },
   "file_extension": ".py",
   "mimetype": "text/x-python",
   "name": "python",
   "nbconvert_exporter": "python",
   "pygments_lexer": "ipython3",
   "version": "3.7.4"
  }
 },
 "nbformat": 4,
 "nbformat_minor": 2
}
