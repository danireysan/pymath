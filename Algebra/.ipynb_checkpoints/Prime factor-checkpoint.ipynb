{
 "cells": [
  {
   "cell_type": "code",
   "execution_count": 11,
   "metadata": {},
   "outputs": [],
   "source": [
    "import sympy as sym\n",
    "from IPython.display import display, Math"
   ]
  },
  {
   "cell_type": "code",
   "execution_count": 25,
   "metadata": {},
   "outputs": [
    {
     "name": "stdout",
     "output_type": "stream",
     "text": [
      "{3: 1}\n"
     ]
    },
    {
     "data": {
      "text/plain": [
       "[3]"
      ]
     },
     "execution_count": 25,
     "metadata": {},
     "output_type": "execute_result"
    }
   ],
   "source": [
    "number = \n",
    "\n",
    "fact_dict = sym.factorint( number )\n",
    "print(fact_dict)\n",
    "list(fact_dict.keys())"
   ]
  },
  {
   "cell_type": "code",
   "execution_count": 45,
   "metadata": {},
   "outputs": [
    {
     "name": "stdout",
     "output_type": "stream",
     "text": [
      "2 is a prime number\n",
      "3 is a prime number\n",
      "4 is comoposite number with prime factors: [2]\n",
      "5 is a prime number\n",
      "6 is comoposite number with prime factors: [2, 3]\n",
      "7 is a prime number\n",
      "8 is comoposite number with prime factors: [2]\n",
      "9 is comoposite number with prime factors: [3]\n",
      "10 is comoposite number with prime factors: [2, 5]\n",
      "11 is a prime number\n",
      "12 is comoposite number with prime factors: [2, 3]\n"
     ]
    }
   ],
   "source": [
    "numlist = range(2,13)\n",
    "\n",
    "for numi in numlist:\n",
    "    di = sym.factorint(numi)\n",
    "    ks = list(di.keys())\n",
    "    \n",
    "    if len(di)==1 and di[ks[0]]==1:\n",
    "        print('%g is a prime number' %numi)\n",
    "    else:\n",
    "        print('%g is comoposite number with prime factors: %s' %(numi, list(di.keys()) ))"
   ]
  },
  {
   "cell_type": "code",
   "execution_count": null,
   "metadata": {},
   "outputs": [],
   "source": []
  }
 ],
 "metadata": {
  "kernelspec": {
   "display_name": "Python 3",
   "language": "python",
   "name": "python3"
  },
  "language_info": {
   "codemirror_mode": {
    "name": "ipython",
    "version": 3
   },
   "file_extension": ".py",
   "mimetype": "text/x-python",
   "name": "python",
   "nbconvert_exporter": "python",
   "pygments_lexer": "ipython3",
   "version": "3.7.4"
  }
 },
 "nbformat": 4,
 "nbformat_minor": 2
}
