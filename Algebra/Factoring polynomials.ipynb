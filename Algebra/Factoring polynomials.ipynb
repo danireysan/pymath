{
 "cells": [
  {
   "cell_type": "code",
   "execution_count": 1,
   "metadata": {},
   "outputs": [],
   "source": [
    "import sympy as sym\n",
    "from IPython.display import display, Math"
   ]
  },
  {
   "cell_type": "code",
   "execution_count": 11,
   "metadata": {},
   "outputs": [
    {
     "data": {
      "text/latex": [
       "$\\displaystyle x^{2} + 4 x - 3$"
      ],
      "text/plain": [
       "x**2 + 4*x - 3"
      ]
     },
     "execution_count": 11,
     "metadata": {},
     "output_type": "execute_result"
    }
   ],
   "source": [
    "x,y = sym.symbols('x,y')\n",
    "\n",
    "p = x**2 + 4*x - 3\n",
    "sym.factor(p)"
   ]
  },
  {
   "cell_type": "code",
   "execution_count": 12,
   "metadata": {},
   "outputs": [
    {
     "data": {
      "text/latex": [
       "$\\displaystyle 2 x \\left(x^{2} y + x y - x + 6 y + 3\\right)$"
      ],
      "text/plain": [
       "2*x*(x**2*y + x*y - x + 6*y + 3)"
      ]
     },
     "execution_count": 12,
     "metadata": {},
     "output_type": "execute_result"
    }
   ],
   "source": [
    "expr = 2*x**3*y - 2*x**2 + 2*x**2*y + 6*x*y + 6*x*y + 6*x\n",
    "sym.factor(expr)"
   ]
  },
  {
   "cell_type": "code",
   "execution_count": 23,
   "metadata": {},
   "outputs": [
    {
     "data": {
      "text/latex": [
       "$\\displaystyle x^{2} + 4 x + 3\\quad \\Rightarrow \\quad \\left(x + 1\\right) \\left(x + 3\\right)$"
      ],
      "text/plain": [
       "<IPython.core.display.Math object>"
      ]
     },
     "metadata": {},
     "output_type": "display_data"
    },
    {
     "data": {
      "text/latex": [
       "$\\displaystyle 2 y - 1\\quad \\Rightarrow \\quad \\text{not factorable! }$"
      ],
      "text/plain": [
       "<IPython.core.display.Math object>"
      ]
     },
     "metadata": {},
     "output_type": "display_data"
    },
    {
     "data": {
      "text/latex": [
       "$\\displaystyle 3 y^{2} + 12 y\\quad \\Rightarrow \\quad 3 y \\left(y + 4\\right)$"
      ],
      "text/plain": [
       "<IPython.core.display.Math object>"
      ]
     },
     "metadata": {},
     "output_type": "display_data"
    }
   ],
   "source": [
    "poly_1 = x**2 + 4*x + 3 \n",
    "poly_2 = 2*y-1\n",
    "poly_3 = 3*y**2 + 12*y\n",
    "poly_list = [poly_1, poly_2, poly_3]\n",
    "\n",
    "for i in poly_list:\n",
    "    tempi = str(sym.factor(i)).find('(')\n",
    "    leftpart=  sym.latex(i)\n",
    "    midpart  = '\\\\quad \\\\Rightarrow \\\\quad '\n",
    "    if tempi == -1:    \n",
    "        rightpart = '\\\\text{not factorable! }'\n",
    "    else:\n",
    "        rightpart = sym.latex(sym.factor(i))\n",
    "    display(Math(leftpart + midpart + rightpart))"
   ]
  },
  {
   "cell_type": "code",
   "execution_count": null,
   "metadata": {},
   "outputs": [],
   "source": []
  }
 ],
 "metadata": {
  "kernelspec": {
   "display_name": "Python 3",
   "language": "python",
   "name": "python3"
  },
  "language_info": {
   "codemirror_mode": {
    "name": "ipython",
    "version": 3
   },
   "file_extension": ".py",
   "mimetype": "text/x-python",
   "name": "python",
   "nbconvert_exporter": "python",
   "pygments_lexer": "ipython3",
   "version": "3.7.4"
  }
 },
 "nbformat": 4,
 "nbformat_minor": 2
}
